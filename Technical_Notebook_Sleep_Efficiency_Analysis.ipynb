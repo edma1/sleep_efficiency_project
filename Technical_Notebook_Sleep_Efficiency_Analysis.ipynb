{
  "nbformat": 4,
  "nbformat_minor": 0,
  "metadata": {
    "colab": {
      "provenance": []
    },
    "kernelspec": {
      "name": "python3",
      "display_name": "Python 3"
    },
    "language_info": {
      "name": "python"
    }
  },
  "cells": [
    {
      "cell_type": "markdown",
      "source": [
        "# Introduction\n",
        "\n",
        "This analysis investigates the factors influencing sleep efficiency across different variables in the dataset. Sleep efficiency, defined as the ratio of actual sleep time to the total time spent in bed, is an important measure of sleep quality. Understanding the factors that affect sleep efficiency can provide valuable insights into improving sleep habits and overall well-being.\n",
        "\n",
        "In this notebook, we will explore various aspects of the dataset, focusing on key variables such as bedtime, exercise frequency, and deep sleep percentage, etc., to examine their impact on sleep efficiency. Through both descriptive and inferential statistical techniques, we will assess the relationships and differences between groups in terms of their sleep efficiency levels."
      ],
      "metadata": {
        "id": "HhGGCuOlgN3Q"
      }
    },
    {
      "cell_type": "markdown",
      "source": [
        "##Data Loading and Overview"
      ],
      "metadata": {
        "id": "MvQjVpTOtDdY"
      }
    },
    {
      "cell_type": "markdown",
      "source": [
        "Firstly, import the major python packages needed for the analyses:\n",
        "\n",
        "- Pandas\n",
        "- NumPy\n",
        "- Matplotlib\n",
        "- Seaborn\n",
        "\n",
        "We may need to import more specific statistical tools from SciPy on a need-based level later on."
      ],
      "metadata": {
        "id": "T5rlfy81Xlc6"
      }
    },
    {
      "cell_type": "code",
      "source": [
        "#import libraries\n",
        "\n",
        "import numpy as np\n",
        "import pandas as pd\n",
        "import matplotlib.pyplot as plt\n",
        "import seaborn as sns"
      ],
      "metadata": {
        "id": "_qthcZFLXnOC"
      },
      "execution_count": 128,
      "outputs": []
    },
    {
      "cell_type": "code",
      "source": [
        "#use pandas to read csv file\n",
        "\n",
        "df = pd.read_csv('Sleep_Efficiency.csv')"
      ],
      "metadata": {
        "id": "Go973vNaLrV3"
      },
      "execution_count": 3,
      "outputs": []
    },
    {
      "cell_type": "markdown",
      "source": [
        "##Basic Diagnostics"
      ],
      "metadata": {
        "id": "17cpjRmLtIRc"
      }
    },
    {
      "cell_type": "code",
      "source": [
        "#first five rows\n",
        "\n",
        "df.head()"
      ],
      "metadata": {
        "colab": {
          "base_uri": "https://localhost:8080/",
          "height": 0
        },
        "id": "KJyB4jn5s1JJ",
        "outputId": "b9ccef48-952e-49ea-df6c-c50e51570ea1"
      },
      "execution_count": 4,
      "outputs": [
        {
          "output_type": "execute_result",
          "data": {
            "text/plain": [
              "   ID  Age  Gender              Bedtime          Wakeup time  Sleep duration  \\\n",
              "0   1   65  Female  2021-03-06 01:00:00  2021-03-06 07:00:00             6.0   \n",
              "1   2   69    Male  2021-12-05 02:00:00  2021-12-05 09:00:00             7.0   \n",
              "2   3   40  Female  2021-05-25 21:30:00  2021-05-25 05:30:00             8.0   \n",
              "3   4   40  Female  2021-11-03 02:30:00  2021-11-03 08:30:00             6.0   \n",
              "4   5   57    Male  2021-03-13 01:00:00  2021-03-13 09:00:00             8.0   \n",
              "\n",
              "   Sleep efficiency  REM sleep percentage  Deep sleep percentage  \\\n",
              "0              0.88                    18                     70   \n",
              "1              0.66                    19                     28   \n",
              "2              0.89                    20                     70   \n",
              "3              0.51                    23                     25   \n",
              "4              0.76                    27                     55   \n",
              "\n",
              "   Light sleep percentage  Awakenings  Caffeine consumption  \\\n",
              "0                      12         0.0                   0.0   \n",
              "1                      53         3.0                   0.0   \n",
              "2                      10         1.0                   0.0   \n",
              "3                      52         3.0                  50.0   \n",
              "4                      18         3.0                   0.0   \n",
              "\n",
              "   Alcohol consumption Smoking status  Exercise frequency  \n",
              "0                  0.0            Yes                 3.0  \n",
              "1                  3.0            Yes                 3.0  \n",
              "2                  0.0             No                 3.0  \n",
              "3                  5.0            Yes                 1.0  \n",
              "4                  3.0             No                 3.0  "
            ],
            "text/html": [
              "\n",
              "  <div id=\"df-5fc1873a-a799-49db-9372-fc56ab4e85f8\" class=\"colab-df-container\">\n",
              "    <div>\n",
              "<style scoped>\n",
              "    .dataframe tbody tr th:only-of-type {\n",
              "        vertical-align: middle;\n",
              "    }\n",
              "\n",
              "    .dataframe tbody tr th {\n",
              "        vertical-align: top;\n",
              "    }\n",
              "\n",
              "    .dataframe thead th {\n",
              "        text-align: right;\n",
              "    }\n",
              "</style>\n",
              "<table border=\"1\" class=\"dataframe\">\n",
              "  <thead>\n",
              "    <tr style=\"text-align: right;\">\n",
              "      <th></th>\n",
              "      <th>ID</th>\n",
              "      <th>Age</th>\n",
              "      <th>Gender</th>\n",
              "      <th>Bedtime</th>\n",
              "      <th>Wakeup time</th>\n",
              "      <th>Sleep duration</th>\n",
              "      <th>Sleep efficiency</th>\n",
              "      <th>REM sleep percentage</th>\n",
              "      <th>Deep sleep percentage</th>\n",
              "      <th>Light sleep percentage</th>\n",
              "      <th>Awakenings</th>\n",
              "      <th>Caffeine consumption</th>\n",
              "      <th>Alcohol consumption</th>\n",
              "      <th>Smoking status</th>\n",
              "      <th>Exercise frequency</th>\n",
              "    </tr>\n",
              "  </thead>\n",
              "  <tbody>\n",
              "    <tr>\n",
              "      <th>0</th>\n",
              "      <td>1</td>\n",
              "      <td>65</td>\n",
              "      <td>Female</td>\n",
              "      <td>2021-03-06 01:00:00</td>\n",
              "      <td>2021-03-06 07:00:00</td>\n",
              "      <td>6.0</td>\n",
              "      <td>0.88</td>\n",
              "      <td>18</td>\n",
              "      <td>70</td>\n",
              "      <td>12</td>\n",
              "      <td>0.0</td>\n",
              "      <td>0.0</td>\n",
              "      <td>0.0</td>\n",
              "      <td>Yes</td>\n",
              "      <td>3.0</td>\n",
              "    </tr>\n",
              "    <tr>\n",
              "      <th>1</th>\n",
              "      <td>2</td>\n",
              "      <td>69</td>\n",
              "      <td>Male</td>\n",
              "      <td>2021-12-05 02:00:00</td>\n",
              "      <td>2021-12-05 09:00:00</td>\n",
              "      <td>7.0</td>\n",
              "      <td>0.66</td>\n",
              "      <td>19</td>\n",
              "      <td>28</td>\n",
              "      <td>53</td>\n",
              "      <td>3.0</td>\n",
              "      <td>0.0</td>\n",
              "      <td>3.0</td>\n",
              "      <td>Yes</td>\n",
              "      <td>3.0</td>\n",
              "    </tr>\n",
              "    <tr>\n",
              "      <th>2</th>\n",
              "      <td>3</td>\n",
              "      <td>40</td>\n",
              "      <td>Female</td>\n",
              "      <td>2021-05-25 21:30:00</td>\n",
              "      <td>2021-05-25 05:30:00</td>\n",
              "      <td>8.0</td>\n",
              "      <td>0.89</td>\n",
              "      <td>20</td>\n",
              "      <td>70</td>\n",
              "      <td>10</td>\n",
              "      <td>1.0</td>\n",
              "      <td>0.0</td>\n",
              "      <td>0.0</td>\n",
              "      <td>No</td>\n",
              "      <td>3.0</td>\n",
              "    </tr>\n",
              "    <tr>\n",
              "      <th>3</th>\n",
              "      <td>4</td>\n",
              "      <td>40</td>\n",
              "      <td>Female</td>\n",
              "      <td>2021-11-03 02:30:00</td>\n",
              "      <td>2021-11-03 08:30:00</td>\n",
              "      <td>6.0</td>\n",
              "      <td>0.51</td>\n",
              "      <td>23</td>\n",
              "      <td>25</td>\n",
              "      <td>52</td>\n",
              "      <td>3.0</td>\n",
              "      <td>50.0</td>\n",
              "      <td>5.0</td>\n",
              "      <td>Yes</td>\n",
              "      <td>1.0</td>\n",
              "    </tr>\n",
              "    <tr>\n",
              "      <th>4</th>\n",
              "      <td>5</td>\n",
              "      <td>57</td>\n",
              "      <td>Male</td>\n",
              "      <td>2021-03-13 01:00:00</td>\n",
              "      <td>2021-03-13 09:00:00</td>\n",
              "      <td>8.0</td>\n",
              "      <td>0.76</td>\n",
              "      <td>27</td>\n",
              "      <td>55</td>\n",
              "      <td>18</td>\n",
              "      <td>3.0</td>\n",
              "      <td>0.0</td>\n",
              "      <td>3.0</td>\n",
              "      <td>No</td>\n",
              "      <td>3.0</td>\n",
              "    </tr>\n",
              "  </tbody>\n",
              "</table>\n",
              "</div>\n",
              "    <div class=\"colab-df-buttons\">\n",
              "\n",
              "  <div class=\"colab-df-container\">\n",
              "    <button class=\"colab-df-convert\" onclick=\"convertToInteractive('df-5fc1873a-a799-49db-9372-fc56ab4e85f8')\"\n",
              "            title=\"Convert this dataframe to an interactive table.\"\n",
              "            style=\"display:none;\">\n",
              "\n",
              "  <svg xmlns=\"http://www.w3.org/2000/svg\" height=\"24px\" viewBox=\"0 -960 960 960\">\n",
              "    <path d=\"M120-120v-720h720v720H120Zm60-500h600v-160H180v160Zm220 220h160v-160H400v160Zm0 220h160v-160H400v160ZM180-400h160v-160H180v160Zm440 0h160v-160H620v160ZM180-180h160v-160H180v160Zm440 0h160v-160H620v160Z\"/>\n",
              "  </svg>\n",
              "    </button>\n",
              "\n",
              "  <style>\n",
              "    .colab-df-container {\n",
              "      display:flex;\n",
              "      gap: 12px;\n",
              "    }\n",
              "\n",
              "    .colab-df-convert {\n",
              "      background-color: #E8F0FE;\n",
              "      border: none;\n",
              "      border-radius: 50%;\n",
              "      cursor: pointer;\n",
              "      display: none;\n",
              "      fill: #1967D2;\n",
              "      height: 32px;\n",
              "      padding: 0 0 0 0;\n",
              "      width: 32px;\n",
              "    }\n",
              "\n",
              "    .colab-df-convert:hover {\n",
              "      background-color: #E2EBFA;\n",
              "      box-shadow: 0px 1px 2px rgba(60, 64, 67, 0.3), 0px 1px 3px 1px rgba(60, 64, 67, 0.15);\n",
              "      fill: #174EA6;\n",
              "    }\n",
              "\n",
              "    .colab-df-buttons div {\n",
              "      margin-bottom: 4px;\n",
              "    }\n",
              "\n",
              "    [theme=dark] .colab-df-convert {\n",
              "      background-color: #3B4455;\n",
              "      fill: #D2E3FC;\n",
              "    }\n",
              "\n",
              "    [theme=dark] .colab-df-convert:hover {\n",
              "      background-color: #434B5C;\n",
              "      box-shadow: 0px 1px 3px 1px rgba(0, 0, 0, 0.15);\n",
              "      filter: drop-shadow(0px 1px 2px rgba(0, 0, 0, 0.3));\n",
              "      fill: #FFFFFF;\n",
              "    }\n",
              "  </style>\n",
              "\n",
              "    <script>\n",
              "      const buttonEl =\n",
              "        document.querySelector('#df-5fc1873a-a799-49db-9372-fc56ab4e85f8 button.colab-df-convert');\n",
              "      buttonEl.style.display =\n",
              "        google.colab.kernel.accessAllowed ? 'block' : 'none';\n",
              "\n",
              "      async function convertToInteractive(key) {\n",
              "        const element = document.querySelector('#df-5fc1873a-a799-49db-9372-fc56ab4e85f8');\n",
              "        const dataTable =\n",
              "          await google.colab.kernel.invokeFunction('convertToInteractive',\n",
              "                                                    [key], {});\n",
              "        if (!dataTable) return;\n",
              "\n",
              "        const docLinkHtml = 'Like what you see? Visit the ' +\n",
              "          '<a target=\"_blank\" href=https://colab.research.google.com/notebooks/data_table.ipynb>data table notebook</a>'\n",
              "          + ' to learn more about interactive tables.';\n",
              "        element.innerHTML = '';\n",
              "        dataTable['output_type'] = 'display_data';\n",
              "        await google.colab.output.renderOutput(dataTable, element);\n",
              "        const docLink = document.createElement('div');\n",
              "        docLink.innerHTML = docLinkHtml;\n",
              "        element.appendChild(docLink);\n",
              "      }\n",
              "    </script>\n",
              "  </div>\n",
              "\n",
              "\n",
              "<div id=\"df-fc4c4720-d07e-45a2-95cb-b23c2a301efb\">\n",
              "  <button class=\"colab-df-quickchart\" onclick=\"quickchart('df-fc4c4720-d07e-45a2-95cb-b23c2a301efb')\"\n",
              "            title=\"Suggest charts\"\n",
              "            style=\"display:none;\">\n",
              "\n",
              "<svg xmlns=\"http://www.w3.org/2000/svg\" height=\"24px\"viewBox=\"0 0 24 24\"\n",
              "     width=\"24px\">\n",
              "    <g>\n",
              "        <path d=\"M19 3H5c-1.1 0-2 .9-2 2v14c0 1.1.9 2 2 2h14c1.1 0 2-.9 2-2V5c0-1.1-.9-2-2-2zM9 17H7v-7h2v7zm4 0h-2V7h2v10zm4 0h-2v-4h2v4z\"/>\n",
              "    </g>\n",
              "</svg>\n",
              "  </button>\n",
              "\n",
              "<style>\n",
              "  .colab-df-quickchart {\n",
              "      --bg-color: #E8F0FE;\n",
              "      --fill-color: #1967D2;\n",
              "      --hover-bg-color: #E2EBFA;\n",
              "      --hover-fill-color: #174EA6;\n",
              "      --disabled-fill-color: #AAA;\n",
              "      --disabled-bg-color: #DDD;\n",
              "  }\n",
              "\n",
              "  [theme=dark] .colab-df-quickchart {\n",
              "      --bg-color: #3B4455;\n",
              "      --fill-color: #D2E3FC;\n",
              "      --hover-bg-color: #434B5C;\n",
              "      --hover-fill-color: #FFFFFF;\n",
              "      --disabled-bg-color: #3B4455;\n",
              "      --disabled-fill-color: #666;\n",
              "  }\n",
              "\n",
              "  .colab-df-quickchart {\n",
              "    background-color: var(--bg-color);\n",
              "    border: none;\n",
              "    border-radius: 50%;\n",
              "    cursor: pointer;\n",
              "    display: none;\n",
              "    fill: var(--fill-color);\n",
              "    height: 32px;\n",
              "    padding: 0;\n",
              "    width: 32px;\n",
              "  }\n",
              "\n",
              "  .colab-df-quickchart:hover {\n",
              "    background-color: var(--hover-bg-color);\n",
              "    box-shadow: 0 1px 2px rgba(60, 64, 67, 0.3), 0 1px 3px 1px rgba(60, 64, 67, 0.15);\n",
              "    fill: var(--button-hover-fill-color);\n",
              "  }\n",
              "\n",
              "  .colab-df-quickchart-complete:disabled,\n",
              "  .colab-df-quickchart-complete:disabled:hover {\n",
              "    background-color: var(--disabled-bg-color);\n",
              "    fill: var(--disabled-fill-color);\n",
              "    box-shadow: none;\n",
              "  }\n",
              "\n",
              "  .colab-df-spinner {\n",
              "    border: 2px solid var(--fill-color);\n",
              "    border-color: transparent;\n",
              "    border-bottom-color: var(--fill-color);\n",
              "    animation:\n",
              "      spin 1s steps(1) infinite;\n",
              "  }\n",
              "\n",
              "  @keyframes spin {\n",
              "    0% {\n",
              "      border-color: transparent;\n",
              "      border-bottom-color: var(--fill-color);\n",
              "      border-left-color: var(--fill-color);\n",
              "    }\n",
              "    20% {\n",
              "      border-color: transparent;\n",
              "      border-left-color: var(--fill-color);\n",
              "      border-top-color: var(--fill-color);\n",
              "    }\n",
              "    30% {\n",
              "      border-color: transparent;\n",
              "      border-left-color: var(--fill-color);\n",
              "      border-top-color: var(--fill-color);\n",
              "      border-right-color: var(--fill-color);\n",
              "    }\n",
              "    40% {\n",
              "      border-color: transparent;\n",
              "      border-right-color: var(--fill-color);\n",
              "      border-top-color: var(--fill-color);\n",
              "    }\n",
              "    60% {\n",
              "      border-color: transparent;\n",
              "      border-right-color: var(--fill-color);\n",
              "    }\n",
              "    80% {\n",
              "      border-color: transparent;\n",
              "      border-right-color: var(--fill-color);\n",
              "      border-bottom-color: var(--fill-color);\n",
              "    }\n",
              "    90% {\n",
              "      border-color: transparent;\n",
              "      border-bottom-color: var(--fill-color);\n",
              "    }\n",
              "  }\n",
              "</style>\n",
              "\n",
              "  <script>\n",
              "    async function quickchart(key) {\n",
              "      const quickchartButtonEl =\n",
              "        document.querySelector('#' + key + ' button');\n",
              "      quickchartButtonEl.disabled = true;  // To prevent multiple clicks.\n",
              "      quickchartButtonEl.classList.add('colab-df-spinner');\n",
              "      try {\n",
              "        const charts = await google.colab.kernel.invokeFunction(\n",
              "            'suggestCharts', [key], {});\n",
              "      } catch (error) {\n",
              "        console.error('Error during call to suggestCharts:', error);\n",
              "      }\n",
              "      quickchartButtonEl.classList.remove('colab-df-spinner');\n",
              "      quickchartButtonEl.classList.add('colab-df-quickchart-complete');\n",
              "    }\n",
              "    (() => {\n",
              "      let quickchartButtonEl =\n",
              "        document.querySelector('#df-fc4c4720-d07e-45a2-95cb-b23c2a301efb button');\n",
              "      quickchartButtonEl.style.display =\n",
              "        google.colab.kernel.accessAllowed ? 'block' : 'none';\n",
              "    })();\n",
              "  </script>\n",
              "</div>\n",
              "\n",
              "    </div>\n",
              "  </div>\n"
            ],
            "application/vnd.google.colaboratory.intrinsic+json": {
              "type": "dataframe",
              "variable_name": "df",
              "summary": "{\n  \"name\": \"df\",\n  \"rows\": 452,\n  \"fields\": [\n    {\n      \"column\": \"ID\",\n      \"properties\": {\n        \"dtype\": \"number\",\n        \"std\": 130,\n        \"min\": 1,\n        \"max\": 452,\n        \"num_unique_values\": 452,\n        \"samples\": [\n          300,\n          40,\n          337\n        ],\n        \"semantic_type\": \"\",\n        \"description\": \"\"\n      }\n    },\n    {\n      \"column\": \"Age\",\n      \"properties\": {\n        \"dtype\": \"number\",\n        \"std\": 13,\n        \"min\": 9,\n        \"max\": 69,\n        \"num_unique_values\": 61,\n        \"samples\": [\n          65,\n          27,\n          19\n        ],\n        \"semantic_type\": \"\",\n        \"description\": \"\"\n      }\n    },\n    {\n      \"column\": \"Gender\",\n      \"properties\": {\n        \"dtype\": \"category\",\n        \"num_unique_values\": 2,\n        \"samples\": [\n          \"Male\",\n          \"Female\"\n        ],\n        \"semantic_type\": \"\",\n        \"description\": \"\"\n      }\n    },\n    {\n      \"column\": \"Bedtime\",\n      \"properties\": {\n        \"dtype\": \"object\",\n        \"num_unique_values\": 424,\n        \"samples\": [\n          \"2021-02-27 21:00:00\",\n          \"2021-06-08 22:00:00\"\n        ],\n        \"semantic_type\": \"\",\n        \"description\": \"\"\n      }\n    },\n    {\n      \"column\": \"Wakeup time\",\n      \"properties\": {\n        \"dtype\": \"object\",\n        \"num_unique_values\": 434,\n        \"samples\": [\n          \"2021-06-08 05:00:00\",\n          \"2021-03-04 05:00:00\"\n        ],\n        \"semantic_type\": \"\",\n        \"description\": \"\"\n      }\n    },\n    {\n      \"column\": \"Sleep duration\",\n      \"properties\": {\n        \"dtype\": \"number\",\n        \"std\": 0.8666249152860285,\n        \"min\": 5.0,\n        \"max\": 10.0,\n        \"num_unique_values\": 9,\n        \"samples\": [\n          5.0,\n          7.0\n        ],\n        \"semantic_type\": \"\",\n        \"description\": \"\"\n      }\n    },\n    {\n      \"column\": \"Sleep efficiency\",\n      \"properties\": {\n        \"dtype\": \"number\",\n        \"std\": 0.13523707364166554,\n        \"min\": 0.5,\n        \"max\": 0.99,\n        \"num_unique_values\": 50,\n        \"samples\": [\n          0.98,\n          0.53\n        ],\n        \"semantic_type\": \"\",\n        \"description\": \"\"\n      }\n    },\n    {\n      \"column\": \"REM sleep percentage\",\n      \"properties\": {\n        \"dtype\": \"number\",\n        \"std\": 3,\n        \"min\": 15,\n        \"max\": 30,\n        \"num_unique_values\": 13,\n        \"samples\": [\n          30,\n          22\n        ],\n        \"semantic_type\": \"\",\n        \"description\": \"\"\n      }\n    },\n    {\n      \"column\": \"Deep sleep percentage\",\n      \"properties\": {\n        \"dtype\": \"number\",\n        \"std\": 15,\n        \"min\": 18,\n        \"max\": 75,\n        \"num_unique_values\": 29,\n        \"samples\": [\n          18,\n          30\n        ],\n        \"semantic_type\": \"\",\n        \"description\": \"\"\n      }\n    },\n    {\n      \"column\": \"Light sleep percentage\",\n      \"properties\": {\n        \"dtype\": \"number\",\n        \"std\": 15,\n        \"min\": 7,\n        \"max\": 63,\n        \"num_unique_values\": 29,\n        \"samples\": [\n          63,\n          54\n        ],\n        \"semantic_type\": \"\",\n        \"description\": \"\"\n      }\n    },\n    {\n      \"column\": \"Awakenings\",\n      \"properties\": {\n        \"dtype\": \"number\",\n        \"std\": 1.356762365405653,\n        \"min\": 0.0,\n        \"max\": 4.0,\n        \"num_unique_values\": 5,\n        \"samples\": [\n          3.0,\n          4.0\n        ],\n        \"semantic_type\": \"\",\n        \"description\": \"\"\n      }\n    },\n    {\n      \"column\": \"Caffeine consumption\",\n      \"properties\": {\n        \"dtype\": \"number\",\n        \"std\": 30.20278500419543,\n        \"min\": 0.0,\n        \"max\": 200.0,\n        \"num_unique_values\": 6,\n        \"samples\": [\n          0.0,\n          50.0\n        ],\n        \"semantic_type\": \"\",\n        \"description\": \"\"\n      }\n    },\n    {\n      \"column\": \"Alcohol consumption\",\n      \"properties\": {\n        \"dtype\": \"number\",\n        \"std\": 1.6213766401197953,\n        \"min\": 0.0,\n        \"max\": 5.0,\n        \"num_unique_values\": 6,\n        \"samples\": [\n          0.0,\n          3.0\n        ],\n        \"semantic_type\": \"\",\n        \"description\": \"\"\n      }\n    },\n    {\n      \"column\": \"Smoking status\",\n      \"properties\": {\n        \"dtype\": \"category\",\n        \"num_unique_values\": 2,\n        \"samples\": [\n          \"No\",\n          \"Yes\"\n        ],\n        \"semantic_type\": \"\",\n        \"description\": \"\"\n      }\n    },\n    {\n      \"column\": \"Exercise frequency\",\n      \"properties\": {\n        \"dtype\": \"number\",\n        \"std\": 1.4281343399170507,\n        \"min\": 0.0,\n        \"max\": 5.0,\n        \"num_unique_values\": 6,\n        \"samples\": [\n          3.0,\n          1.0\n        ],\n        \"semantic_type\": \"\",\n        \"description\": \"\"\n      }\n    }\n  ]\n}"
            }
          },
          "metadata": {},
          "execution_count": 4
        }
      ]
    },
    {
      "cell_type": "code",
      "source": [
        "#general info about the dataset\n",
        "\n",
        "df.info()\n",
        "\n",
        "#from initial screening, there seems to be a few null values for 'Awakenings',\n",
        "#'Caffeine consumption', 'Exercise frequency', and 'Alcohol consumption' columns."
      ],
      "metadata": {
        "colab": {
          "base_uri": "https://localhost:8080/"
        },
        "id": "nifM4duxtwNz",
        "outputId": "b975a760-0ac2-4601-8d1b-0f259a3b89ce"
      },
      "execution_count": 5,
      "outputs": [
        {
          "output_type": "stream",
          "name": "stdout",
          "text": [
            "<class 'pandas.core.frame.DataFrame'>\n",
            "RangeIndex: 452 entries, 0 to 451\n",
            "Data columns (total 15 columns):\n",
            " #   Column                  Non-Null Count  Dtype  \n",
            "---  ------                  --------------  -----  \n",
            " 0   ID                      452 non-null    int64  \n",
            " 1   Age                     452 non-null    int64  \n",
            " 2   Gender                  452 non-null    object \n",
            " 3   Bedtime                 452 non-null    object \n",
            " 4   Wakeup time             452 non-null    object \n",
            " 5   Sleep duration          452 non-null    float64\n",
            " 6   Sleep efficiency        452 non-null    float64\n",
            " 7   REM sleep percentage    452 non-null    int64  \n",
            " 8   Deep sleep percentage   452 non-null    int64  \n",
            " 9   Light sleep percentage  452 non-null    int64  \n",
            " 10  Awakenings              432 non-null    float64\n",
            " 11  Caffeine consumption    427 non-null    float64\n",
            " 12  Alcohol consumption     438 non-null    float64\n",
            " 13  Smoking status          452 non-null    object \n",
            " 14  Exercise frequency      446 non-null    float64\n",
            "dtypes: float64(6), int64(5), object(4)\n",
            "memory usage: 53.1+ KB\n"
          ]
        }
      ]
    },
    {
      "cell_type": "code",
      "source": [
        "#some statistics for the columns that are numerical features\n",
        "\n",
        "df.describe()\n",
        "\n",
        "#nothing particularly out of the ordinary upon initial scanning"
      ],
      "metadata": {
        "colab": {
          "base_uri": "https://localhost:8080/",
          "height": 0
        },
        "id": "hwIhDQ8Zt4Ll",
        "outputId": "0f2d80ac-06e8-4dbe-9196-d4c42768c6eb"
      },
      "execution_count": 6,
      "outputs": [
        {
          "output_type": "execute_result",
          "data": {
            "text/plain": [
              "               ID         Age  Sleep duration  Sleep efficiency  \\\n",
              "count  452.000000  452.000000      452.000000        452.000000   \n",
              "mean   226.500000   40.285398        7.465708          0.788916   \n",
              "std    130.625419   13.172250        0.866625          0.135237   \n",
              "min      1.000000    9.000000        5.000000          0.500000   \n",
              "25%    113.750000   29.000000        7.000000          0.697500   \n",
              "50%    226.500000   40.000000        7.500000          0.820000   \n",
              "75%    339.250000   52.000000        8.000000          0.900000   \n",
              "max    452.000000   69.000000       10.000000          0.990000   \n",
              "\n",
              "       REM sleep percentage  Deep sleep percentage  Light sleep percentage  \\\n",
              "count            452.000000             452.000000              452.000000   \n",
              "mean              22.615044              52.823009               24.561947   \n",
              "std                3.525963              15.654235               15.313665   \n",
              "min               15.000000              18.000000                7.000000   \n",
              "25%               20.000000              48.250000               15.000000   \n",
              "50%               22.000000              58.000000               18.000000   \n",
              "75%               25.000000              63.000000               32.500000   \n",
              "max               30.000000              75.000000               63.000000   \n",
              "\n",
              "       Awakenings  Caffeine consumption  Alcohol consumption  \\\n",
              "count  432.000000            427.000000           438.000000   \n",
              "mean     1.641204             23.653396             1.173516   \n",
              "std      1.356762             30.202785             1.621377   \n",
              "min      0.000000              0.000000             0.000000   \n",
              "25%      1.000000              0.000000             0.000000   \n",
              "50%      1.000000             25.000000             0.000000   \n",
              "75%      3.000000             50.000000             2.000000   \n",
              "max      4.000000            200.000000             5.000000   \n",
              "\n",
              "       Exercise frequency  \n",
              "count          446.000000  \n",
              "mean             1.791480  \n",
              "std              1.428134  \n",
              "min              0.000000  \n",
              "25%              0.000000  \n",
              "50%              2.000000  \n",
              "75%              3.000000  \n",
              "max              5.000000  "
            ],
            "text/html": [
              "\n",
              "  <div id=\"df-8ba69a3a-528b-4cde-806f-269630be83a9\" class=\"colab-df-container\">\n",
              "    <div>\n",
              "<style scoped>\n",
              "    .dataframe tbody tr th:only-of-type {\n",
              "        vertical-align: middle;\n",
              "    }\n",
              "\n",
              "    .dataframe tbody tr th {\n",
              "        vertical-align: top;\n",
              "    }\n",
              "\n",
              "    .dataframe thead th {\n",
              "        text-align: right;\n",
              "    }\n",
              "</style>\n",
              "<table border=\"1\" class=\"dataframe\">\n",
              "  <thead>\n",
              "    <tr style=\"text-align: right;\">\n",
              "      <th></th>\n",
              "      <th>ID</th>\n",
              "      <th>Age</th>\n",
              "      <th>Sleep duration</th>\n",
              "      <th>Sleep efficiency</th>\n",
              "      <th>REM sleep percentage</th>\n",
              "      <th>Deep sleep percentage</th>\n",
              "      <th>Light sleep percentage</th>\n",
              "      <th>Awakenings</th>\n",
              "      <th>Caffeine consumption</th>\n",
              "      <th>Alcohol consumption</th>\n",
              "      <th>Exercise frequency</th>\n",
              "    </tr>\n",
              "  </thead>\n",
              "  <tbody>\n",
              "    <tr>\n",
              "      <th>count</th>\n",
              "      <td>452.000000</td>\n",
              "      <td>452.000000</td>\n",
              "      <td>452.000000</td>\n",
              "      <td>452.000000</td>\n",
              "      <td>452.000000</td>\n",
              "      <td>452.000000</td>\n",
              "      <td>452.000000</td>\n",
              "      <td>432.000000</td>\n",
              "      <td>427.000000</td>\n",
              "      <td>438.000000</td>\n",
              "      <td>446.000000</td>\n",
              "    </tr>\n",
              "    <tr>\n",
              "      <th>mean</th>\n",
              "      <td>226.500000</td>\n",
              "      <td>40.285398</td>\n",
              "      <td>7.465708</td>\n",
              "      <td>0.788916</td>\n",
              "      <td>22.615044</td>\n",
              "      <td>52.823009</td>\n",
              "      <td>24.561947</td>\n",
              "      <td>1.641204</td>\n",
              "      <td>23.653396</td>\n",
              "      <td>1.173516</td>\n",
              "      <td>1.791480</td>\n",
              "    </tr>\n",
              "    <tr>\n",
              "      <th>std</th>\n",
              "      <td>130.625419</td>\n",
              "      <td>13.172250</td>\n",
              "      <td>0.866625</td>\n",
              "      <td>0.135237</td>\n",
              "      <td>3.525963</td>\n",
              "      <td>15.654235</td>\n",
              "      <td>15.313665</td>\n",
              "      <td>1.356762</td>\n",
              "      <td>30.202785</td>\n",
              "      <td>1.621377</td>\n",
              "      <td>1.428134</td>\n",
              "    </tr>\n",
              "    <tr>\n",
              "      <th>min</th>\n",
              "      <td>1.000000</td>\n",
              "      <td>9.000000</td>\n",
              "      <td>5.000000</td>\n",
              "      <td>0.500000</td>\n",
              "      <td>15.000000</td>\n",
              "      <td>18.000000</td>\n",
              "      <td>7.000000</td>\n",
              "      <td>0.000000</td>\n",
              "      <td>0.000000</td>\n",
              "      <td>0.000000</td>\n",
              "      <td>0.000000</td>\n",
              "    </tr>\n",
              "    <tr>\n",
              "      <th>25%</th>\n",
              "      <td>113.750000</td>\n",
              "      <td>29.000000</td>\n",
              "      <td>7.000000</td>\n",
              "      <td>0.697500</td>\n",
              "      <td>20.000000</td>\n",
              "      <td>48.250000</td>\n",
              "      <td>15.000000</td>\n",
              "      <td>1.000000</td>\n",
              "      <td>0.000000</td>\n",
              "      <td>0.000000</td>\n",
              "      <td>0.000000</td>\n",
              "    </tr>\n",
              "    <tr>\n",
              "      <th>50%</th>\n",
              "      <td>226.500000</td>\n",
              "      <td>40.000000</td>\n",
              "      <td>7.500000</td>\n",
              "      <td>0.820000</td>\n",
              "      <td>22.000000</td>\n",
              "      <td>58.000000</td>\n",
              "      <td>18.000000</td>\n",
              "      <td>1.000000</td>\n",
              "      <td>25.000000</td>\n",
              "      <td>0.000000</td>\n",
              "      <td>2.000000</td>\n",
              "    </tr>\n",
              "    <tr>\n",
              "      <th>75%</th>\n",
              "      <td>339.250000</td>\n",
              "      <td>52.000000</td>\n",
              "      <td>8.000000</td>\n",
              "      <td>0.900000</td>\n",
              "      <td>25.000000</td>\n",
              "      <td>63.000000</td>\n",
              "      <td>32.500000</td>\n",
              "      <td>3.000000</td>\n",
              "      <td>50.000000</td>\n",
              "      <td>2.000000</td>\n",
              "      <td>3.000000</td>\n",
              "    </tr>\n",
              "    <tr>\n",
              "      <th>max</th>\n",
              "      <td>452.000000</td>\n",
              "      <td>69.000000</td>\n",
              "      <td>10.000000</td>\n",
              "      <td>0.990000</td>\n",
              "      <td>30.000000</td>\n",
              "      <td>75.000000</td>\n",
              "      <td>63.000000</td>\n",
              "      <td>4.000000</td>\n",
              "      <td>200.000000</td>\n",
              "      <td>5.000000</td>\n",
              "      <td>5.000000</td>\n",
              "    </tr>\n",
              "  </tbody>\n",
              "</table>\n",
              "</div>\n",
              "    <div class=\"colab-df-buttons\">\n",
              "\n",
              "  <div class=\"colab-df-container\">\n",
              "    <button class=\"colab-df-convert\" onclick=\"convertToInteractive('df-8ba69a3a-528b-4cde-806f-269630be83a9')\"\n",
              "            title=\"Convert this dataframe to an interactive table.\"\n",
              "            style=\"display:none;\">\n",
              "\n",
              "  <svg xmlns=\"http://www.w3.org/2000/svg\" height=\"24px\" viewBox=\"0 -960 960 960\">\n",
              "    <path d=\"M120-120v-720h720v720H120Zm60-500h600v-160H180v160Zm220 220h160v-160H400v160Zm0 220h160v-160H400v160ZM180-400h160v-160H180v160Zm440 0h160v-160H620v160ZM180-180h160v-160H180v160Zm440 0h160v-160H620v160Z\"/>\n",
              "  </svg>\n",
              "    </button>\n",
              "\n",
              "  <style>\n",
              "    .colab-df-container {\n",
              "      display:flex;\n",
              "      gap: 12px;\n",
              "    }\n",
              "\n",
              "    .colab-df-convert {\n",
              "      background-color: #E8F0FE;\n",
              "      border: none;\n",
              "      border-radius: 50%;\n",
              "      cursor: pointer;\n",
              "      display: none;\n",
              "      fill: #1967D2;\n",
              "      height: 32px;\n",
              "      padding: 0 0 0 0;\n",
              "      width: 32px;\n",
              "    }\n",
              "\n",
              "    .colab-df-convert:hover {\n",
              "      background-color: #E2EBFA;\n",
              "      box-shadow: 0px 1px 2px rgba(60, 64, 67, 0.3), 0px 1px 3px 1px rgba(60, 64, 67, 0.15);\n",
              "      fill: #174EA6;\n",
              "    }\n",
              "\n",
              "    .colab-df-buttons div {\n",
              "      margin-bottom: 4px;\n",
              "    }\n",
              "\n",
              "    [theme=dark] .colab-df-convert {\n",
              "      background-color: #3B4455;\n",
              "      fill: #D2E3FC;\n",
              "    }\n",
              "\n",
              "    [theme=dark] .colab-df-convert:hover {\n",
              "      background-color: #434B5C;\n",
              "      box-shadow: 0px 1px 3px 1px rgba(0, 0, 0, 0.15);\n",
              "      filter: drop-shadow(0px 1px 2px rgba(0, 0, 0, 0.3));\n",
              "      fill: #FFFFFF;\n",
              "    }\n",
              "  </style>\n",
              "\n",
              "    <script>\n",
              "      const buttonEl =\n",
              "        document.querySelector('#df-8ba69a3a-528b-4cde-806f-269630be83a9 button.colab-df-convert');\n",
              "      buttonEl.style.display =\n",
              "        google.colab.kernel.accessAllowed ? 'block' : 'none';\n",
              "\n",
              "      async function convertToInteractive(key) {\n",
              "        const element = document.querySelector('#df-8ba69a3a-528b-4cde-806f-269630be83a9');\n",
              "        const dataTable =\n",
              "          await google.colab.kernel.invokeFunction('convertToInteractive',\n",
              "                                                    [key], {});\n",
              "        if (!dataTable) return;\n",
              "\n",
              "        const docLinkHtml = 'Like what you see? Visit the ' +\n",
              "          '<a target=\"_blank\" href=https://colab.research.google.com/notebooks/data_table.ipynb>data table notebook</a>'\n",
              "          + ' to learn more about interactive tables.';\n",
              "        element.innerHTML = '';\n",
              "        dataTable['output_type'] = 'display_data';\n",
              "        await google.colab.output.renderOutput(dataTable, element);\n",
              "        const docLink = document.createElement('div');\n",
              "        docLink.innerHTML = docLinkHtml;\n",
              "        element.appendChild(docLink);\n",
              "      }\n",
              "    </script>\n",
              "  </div>\n",
              "\n",
              "\n",
              "<div id=\"df-74f953f6-e448-44e9-aaee-33ada189dfc3\">\n",
              "  <button class=\"colab-df-quickchart\" onclick=\"quickchart('df-74f953f6-e448-44e9-aaee-33ada189dfc3')\"\n",
              "            title=\"Suggest charts\"\n",
              "            style=\"display:none;\">\n",
              "\n",
              "<svg xmlns=\"http://www.w3.org/2000/svg\" height=\"24px\"viewBox=\"0 0 24 24\"\n",
              "     width=\"24px\">\n",
              "    <g>\n",
              "        <path d=\"M19 3H5c-1.1 0-2 .9-2 2v14c0 1.1.9 2 2 2h14c1.1 0 2-.9 2-2V5c0-1.1-.9-2-2-2zM9 17H7v-7h2v7zm4 0h-2V7h2v10zm4 0h-2v-4h2v4z\"/>\n",
              "    </g>\n",
              "</svg>\n",
              "  </button>\n",
              "\n",
              "<style>\n",
              "  .colab-df-quickchart {\n",
              "      --bg-color: #E8F0FE;\n",
              "      --fill-color: #1967D2;\n",
              "      --hover-bg-color: #E2EBFA;\n",
              "      --hover-fill-color: #174EA6;\n",
              "      --disabled-fill-color: #AAA;\n",
              "      --disabled-bg-color: #DDD;\n",
              "  }\n",
              "\n",
              "  [theme=dark] .colab-df-quickchart {\n",
              "      --bg-color: #3B4455;\n",
              "      --fill-color: #D2E3FC;\n",
              "      --hover-bg-color: #434B5C;\n",
              "      --hover-fill-color: #FFFFFF;\n",
              "      --disabled-bg-color: #3B4455;\n",
              "      --disabled-fill-color: #666;\n",
              "  }\n",
              "\n",
              "  .colab-df-quickchart {\n",
              "    background-color: var(--bg-color);\n",
              "    border: none;\n",
              "    border-radius: 50%;\n",
              "    cursor: pointer;\n",
              "    display: none;\n",
              "    fill: var(--fill-color);\n",
              "    height: 32px;\n",
              "    padding: 0;\n",
              "    width: 32px;\n",
              "  }\n",
              "\n",
              "  .colab-df-quickchart:hover {\n",
              "    background-color: var(--hover-bg-color);\n",
              "    box-shadow: 0 1px 2px rgba(60, 64, 67, 0.3), 0 1px 3px 1px rgba(60, 64, 67, 0.15);\n",
              "    fill: var(--button-hover-fill-color);\n",
              "  }\n",
              "\n",
              "  .colab-df-quickchart-complete:disabled,\n",
              "  .colab-df-quickchart-complete:disabled:hover {\n",
              "    background-color: var(--disabled-bg-color);\n",
              "    fill: var(--disabled-fill-color);\n",
              "    box-shadow: none;\n",
              "  }\n",
              "\n",
              "  .colab-df-spinner {\n",
              "    border: 2px solid var(--fill-color);\n",
              "    border-color: transparent;\n",
              "    border-bottom-color: var(--fill-color);\n",
              "    animation:\n",
              "      spin 1s steps(1) infinite;\n",
              "  }\n",
              "\n",
              "  @keyframes spin {\n",
              "    0% {\n",
              "      border-color: transparent;\n",
              "      border-bottom-color: var(--fill-color);\n",
              "      border-left-color: var(--fill-color);\n",
              "    }\n",
              "    20% {\n",
              "      border-color: transparent;\n",
              "      border-left-color: var(--fill-color);\n",
              "      border-top-color: var(--fill-color);\n",
              "    }\n",
              "    30% {\n",
              "      border-color: transparent;\n",
              "      border-left-color: var(--fill-color);\n",
              "      border-top-color: var(--fill-color);\n",
              "      border-right-color: var(--fill-color);\n",
              "    }\n",
              "    40% {\n",
              "      border-color: transparent;\n",
              "      border-right-color: var(--fill-color);\n",
              "      border-top-color: var(--fill-color);\n",
              "    }\n",
              "    60% {\n",
              "      border-color: transparent;\n",
              "      border-right-color: var(--fill-color);\n",
              "    }\n",
              "    80% {\n",
              "      border-color: transparent;\n",
              "      border-right-color: var(--fill-color);\n",
              "      border-bottom-color: var(--fill-color);\n",
              "    }\n",
              "    90% {\n",
              "      border-color: transparent;\n",
              "      border-bottom-color: var(--fill-color);\n",
              "    }\n",
              "  }\n",
              "</style>\n",
              "\n",
              "  <script>\n",
              "    async function quickchart(key) {\n",
              "      const quickchartButtonEl =\n",
              "        document.querySelector('#' + key + ' button');\n",
              "      quickchartButtonEl.disabled = true;  // To prevent multiple clicks.\n",
              "      quickchartButtonEl.classList.add('colab-df-spinner');\n",
              "      try {\n",
              "        const charts = await google.colab.kernel.invokeFunction(\n",
              "            'suggestCharts', [key], {});\n",
              "      } catch (error) {\n",
              "        console.error('Error during call to suggestCharts:', error);\n",
              "      }\n",
              "      quickchartButtonEl.classList.remove('colab-df-spinner');\n",
              "      quickchartButtonEl.classList.add('colab-df-quickchart-complete');\n",
              "    }\n",
              "    (() => {\n",
              "      let quickchartButtonEl =\n",
              "        document.querySelector('#df-74f953f6-e448-44e9-aaee-33ada189dfc3 button');\n",
              "      quickchartButtonEl.style.display =\n",
              "        google.colab.kernel.accessAllowed ? 'block' : 'none';\n",
              "    })();\n",
              "  </script>\n",
              "</div>\n",
              "\n",
              "    </div>\n",
              "  </div>\n"
            ],
            "application/vnd.google.colaboratory.intrinsic+json": {
              "type": "dataframe",
              "summary": "{\n  \"name\": \"#nothing particularly out of the ordinary upon initial scanning\",\n  \"rows\": 8,\n  \"fields\": [\n    {\n      \"column\": \"ID\",\n      \"properties\": {\n        \"dtype\": \"number\",\n        \"std\": 162.5983072754356,\n        \"min\": 1.0,\n        \"max\": 452.0,\n        \"num_unique_values\": 6,\n        \"samples\": [\n          452.0,\n          226.5,\n          339.25\n        ],\n        \"semantic_type\": \"\",\n        \"description\": \"\"\n      }\n    },\n    {\n      \"column\": \"Age\",\n      \"properties\": {\n        \"dtype\": \"number\",\n        \"std\": 148.35038120485092,\n        \"min\": 9.0,\n        \"max\": 452.0,\n        \"num_unique_values\": 8,\n        \"samples\": [\n          40.2853982300885,\n          40.0,\n          452.0\n        ],\n        \"semantic_type\": \"\",\n        \"description\": \"\"\n      }\n    },\n    {\n      \"column\": \"Sleep duration\",\n      \"properties\": {\n        \"dtype\": \"number\",\n        \"std\": 157.5142210707055,\n        \"min\": 0.8666249152860285,\n        \"max\": 452.0,\n        \"num_unique_values\": 8,\n        \"samples\": [\n          7.46570796460177,\n          7.5,\n          452.0\n        ],\n        \"semantic_type\": \"\",\n        \"description\": \"\"\n      }\n    },\n    {\n      \"column\": \"Sleep efficiency\",\n      \"properties\": {\n        \"dtype\": \"number\",\n        \"std\": 159.5623231510387,\n        \"min\": 0.13523707364166554,\n        \"max\": 452.0,\n        \"num_unique_values\": 8,\n        \"samples\": [\n          0.7889159292035398,\n          0.82,\n          452.0\n        ],\n        \"semantic_type\": \"\",\n        \"description\": \"\"\n      }\n    },\n    {\n      \"column\": \"REM sleep percentage\",\n      \"properties\": {\n        \"dtype\": \"number\",\n        \"std\": 153.03060928794088,\n        \"min\": 3.525962528119203,\n        \"max\": 452.0,\n        \"num_unique_values\": 8,\n        \"samples\": [\n          22.615044247787612,\n          22.0,\n          452.0\n        ],\n        \"semantic_type\": \"\",\n        \"description\": \"\"\n      }\n    },\n    {\n      \"column\": \"Deep sleep percentage\",\n      \"properties\": {\n        \"dtype\": \"number\",\n        \"std\": 144.60124753669513,\n        \"min\": 15.654235183332586,\n        \"max\": 452.0,\n        \"num_unique_values\": 8,\n        \"samples\": [\n          52.823008849557525,\n          58.0,\n          452.0\n        ],\n        \"semantic_type\": \"\",\n        \"description\": \"\"\n      }\n    },\n    {\n      \"column\": \"Light sleep percentage\",\n      \"properties\": {\n        \"dtype\": \"number\",\n        \"std\": 151.9233959762163,\n        \"min\": 7.0,\n        \"max\": 452.0,\n        \"num_unique_values\": 8,\n        \"samples\": [\n          24.561946902654867,\n          18.0,\n          452.0\n        ],\n        \"semantic_type\": \"\",\n        \"description\": \"\"\n      }\n    },\n    {\n      \"column\": \"Awakenings\",\n      \"properties\": {\n        \"dtype\": \"number\",\n        \"std\": 152.13422650481334,\n        \"min\": 0.0,\n        \"max\": 432.0,\n        \"num_unique_values\": 7,\n        \"samples\": [\n          432.0,\n          1.6412037037037037,\n          3.0\n        ],\n        \"semantic_type\": \"\",\n        \"description\": \"\"\n      }\n    },\n    {\n      \"column\": \"Caffeine consumption\",\n      \"properties\": {\n        \"dtype\": \"number\",\n        \"std\": 149.04978583373818,\n        \"min\": 0.0,\n        \"max\": 427.0,\n        \"num_unique_values\": 7,\n        \"samples\": [\n          427.0,\n          23.653395784543324,\n          50.0\n        ],\n        \"semantic_type\": \"\",\n        \"description\": \"\"\n      }\n    },\n    {\n      \"column\": \"Alcohol consumption\",\n      \"properties\": {\n        \"dtype\": \"number\",\n        \"std\": 154.3705989631497,\n        \"min\": 0.0,\n        \"max\": 438.0,\n        \"num_unique_values\": 6,\n        \"samples\": [\n          438.0,\n          1.17351598173516,\n          5.0\n        ],\n        \"semantic_type\": \"\",\n        \"description\": \"\"\n      }\n    },\n    {\n      \"column\": \"Exercise frequency\",\n      \"properties\": {\n        \"dtype\": \"number\",\n        \"std\": 157.02543798193093,\n        \"min\": 0.0,\n        \"max\": 446.0,\n        \"num_unique_values\": 7,\n        \"samples\": [\n          446.0,\n          1.7914798206278026,\n          3.0\n        ],\n        \"semantic_type\": \"\",\n        \"description\": \"\"\n      }\n    }\n  ]\n}"
            }
          },
          "metadata": {},
          "execution_count": 6
        }
      ]
    },
    {
      "cell_type": "markdown",
      "source": [
        "##Data Cleaning and Null Value Imputation"
      ],
      "metadata": {
        "id": "xK27o0eQv930"
      }
    },
    {
      "cell_type": "code",
      "source": [
        "#identify the number of null values in each column\n",
        "\n",
        "df.isna().sum()"
      ],
      "metadata": {
        "colab": {
          "base_uri": "https://localhost:8080/",
          "height": 0
        },
        "id": "nnNjXp69vAN0",
        "outputId": "db7d8b85-11ce-4c3d-d04c-fbc7ca09b3ab"
      },
      "execution_count": 7,
      "outputs": [
        {
          "output_type": "execute_result",
          "data": {
            "text/plain": [
              "ID                         0\n",
              "Age                        0\n",
              "Gender                     0\n",
              "Bedtime                    0\n",
              "Wakeup time                0\n",
              "Sleep duration             0\n",
              "Sleep efficiency           0\n",
              "REM sleep percentage       0\n",
              "Deep sleep percentage      0\n",
              "Light sleep percentage     0\n",
              "Awakenings                20\n",
              "Caffeine consumption      25\n",
              "Alcohol consumption       14\n",
              "Smoking status             0\n",
              "Exercise frequency         6\n",
              "dtype: int64"
            ],
            "text/html": [
              "<div>\n",
              "<style scoped>\n",
              "    .dataframe tbody tr th:only-of-type {\n",
              "        vertical-align: middle;\n",
              "    }\n",
              "\n",
              "    .dataframe tbody tr th {\n",
              "        vertical-align: top;\n",
              "    }\n",
              "\n",
              "    .dataframe thead th {\n",
              "        text-align: right;\n",
              "    }\n",
              "</style>\n",
              "<table border=\"1\" class=\"dataframe\">\n",
              "  <thead>\n",
              "    <tr style=\"text-align: right;\">\n",
              "      <th></th>\n",
              "      <th>0</th>\n",
              "    </tr>\n",
              "  </thead>\n",
              "  <tbody>\n",
              "    <tr>\n",
              "      <th>ID</th>\n",
              "      <td>0</td>\n",
              "    </tr>\n",
              "    <tr>\n",
              "      <th>Age</th>\n",
              "      <td>0</td>\n",
              "    </tr>\n",
              "    <tr>\n",
              "      <th>Gender</th>\n",
              "      <td>0</td>\n",
              "    </tr>\n",
              "    <tr>\n",
              "      <th>Bedtime</th>\n",
              "      <td>0</td>\n",
              "    </tr>\n",
              "    <tr>\n",
              "      <th>Wakeup time</th>\n",
              "      <td>0</td>\n",
              "    </tr>\n",
              "    <tr>\n",
              "      <th>Sleep duration</th>\n",
              "      <td>0</td>\n",
              "    </tr>\n",
              "    <tr>\n",
              "      <th>Sleep efficiency</th>\n",
              "      <td>0</td>\n",
              "    </tr>\n",
              "    <tr>\n",
              "      <th>REM sleep percentage</th>\n",
              "      <td>0</td>\n",
              "    </tr>\n",
              "    <tr>\n",
              "      <th>Deep sleep percentage</th>\n",
              "      <td>0</td>\n",
              "    </tr>\n",
              "    <tr>\n",
              "      <th>Light sleep percentage</th>\n",
              "      <td>0</td>\n",
              "    </tr>\n",
              "    <tr>\n",
              "      <th>Awakenings</th>\n",
              "      <td>20</td>\n",
              "    </tr>\n",
              "    <tr>\n",
              "      <th>Caffeine consumption</th>\n",
              "      <td>25</td>\n",
              "    </tr>\n",
              "    <tr>\n",
              "      <th>Alcohol consumption</th>\n",
              "      <td>14</td>\n",
              "    </tr>\n",
              "    <tr>\n",
              "      <th>Smoking status</th>\n",
              "      <td>0</td>\n",
              "    </tr>\n",
              "    <tr>\n",
              "      <th>Exercise frequency</th>\n",
              "      <td>6</td>\n",
              "    </tr>\n",
              "  </tbody>\n",
              "</table>\n",
              "</div><br><label><b>dtype:</b> int64</label>"
            ]
          },
          "metadata": {},
          "execution_count": 7
        }
      ]
    },
    {
      "cell_type": "markdown",
      "source": [
        "It is definitely not appropriate to use 0 for the null values in the 'Awakenings' column, as 0 awakenings is a meaningful value in this case.\n",
        "\n",
        "In this case, median imputation or mode imputation are likely the most appropriate and robust choices. Median imputation method avoids the influence of outliers and gives a good approximation for most cases. Mode imputation might also viable based on the distribution, whether it is spread out across multiple values or not will be the deciding factor."
      ],
      "metadata": {
        "id": "VeZDd0TNyYNY"
      }
    },
    {
      "cell_type": "code",
      "source": [
        "#identify mode\n",
        "value_counts = df['Awakenings'].value_counts()\n",
        "print(value_counts)"
      ],
      "metadata": {
        "colab": {
          "base_uri": "https://localhost:8080/"
        },
        "id": "TKQPD8RCwSDo",
        "outputId": "715ffd7e-5e3b-4187-9ae2-a2f05834033e"
      },
      "execution_count": 8,
      "outputs": [
        {
          "output_type": "stream",
          "name": "stdout",
          "text": [
            "Awakenings\n",
            "1.0    154\n",
            "0.0     95\n",
            "3.0     63\n",
            "4.0     63\n",
            "2.0     57\n",
            "Name: count, dtype: int64\n"
          ]
        }
      ]
    },
    {
      "cell_type": "code",
      "source": [
        "#identify median\n",
        "median = df['Awakenings'].median()\n",
        "median"
      ],
      "metadata": {
        "colab": {
          "base_uri": "https://localhost:8080/"
        },
        "id": "_f_MFwyq2fG8",
        "outputId": "e30e70c2-67d6-4b38-ce37-a46a50881b05"
      },
      "execution_count": 9,
      "outputs": [
        {
          "output_type": "execute_result",
          "data": {
            "text/plain": [
              "1.0"
            ]
          },
          "metadata": {},
          "execution_count": 9
        }
      ]
    },
    {
      "cell_type": "markdown",
      "source": [
        "Luckily, both median and mode come out to be 1.0, so the null values of the 'Awakenings' column will be filled in with 1.0."
      ],
      "metadata": {
        "id": "2dHhrel63A-q"
      }
    },
    {
      "cell_type": "code",
      "source": [
        "df['Awakenings'] = df['Awakenings'].fillna('1.0')\n",
        "df.isna().sum()"
      ],
      "metadata": {
        "colab": {
          "base_uri": "https://localhost:8080/",
          "height": 0
        },
        "id": "fwF_6VofxJSt",
        "outputId": "792948d6-4a2f-4e3e-b6d8-1fd62df02a81"
      },
      "execution_count": 10,
      "outputs": [
        {
          "output_type": "execute_result",
          "data": {
            "text/plain": [
              "ID                         0\n",
              "Age                        0\n",
              "Gender                     0\n",
              "Bedtime                    0\n",
              "Wakeup time                0\n",
              "Sleep duration             0\n",
              "Sleep efficiency           0\n",
              "REM sleep percentage       0\n",
              "Deep sleep percentage      0\n",
              "Light sleep percentage     0\n",
              "Awakenings                 0\n",
              "Caffeine consumption      25\n",
              "Alcohol consumption       14\n",
              "Smoking status             0\n",
              "Exercise frequency         6\n",
              "dtype: int64"
            ],
            "text/html": [
              "<div>\n",
              "<style scoped>\n",
              "    .dataframe tbody tr th:only-of-type {\n",
              "        vertical-align: middle;\n",
              "    }\n",
              "\n",
              "    .dataframe tbody tr th {\n",
              "        vertical-align: top;\n",
              "    }\n",
              "\n",
              "    .dataframe thead th {\n",
              "        text-align: right;\n",
              "    }\n",
              "</style>\n",
              "<table border=\"1\" class=\"dataframe\">\n",
              "  <thead>\n",
              "    <tr style=\"text-align: right;\">\n",
              "      <th></th>\n",
              "      <th>0</th>\n",
              "    </tr>\n",
              "  </thead>\n",
              "  <tbody>\n",
              "    <tr>\n",
              "      <th>ID</th>\n",
              "      <td>0</td>\n",
              "    </tr>\n",
              "    <tr>\n",
              "      <th>Age</th>\n",
              "      <td>0</td>\n",
              "    </tr>\n",
              "    <tr>\n",
              "      <th>Gender</th>\n",
              "      <td>0</td>\n",
              "    </tr>\n",
              "    <tr>\n",
              "      <th>Bedtime</th>\n",
              "      <td>0</td>\n",
              "    </tr>\n",
              "    <tr>\n",
              "      <th>Wakeup time</th>\n",
              "      <td>0</td>\n",
              "    </tr>\n",
              "    <tr>\n",
              "      <th>Sleep duration</th>\n",
              "      <td>0</td>\n",
              "    </tr>\n",
              "    <tr>\n",
              "      <th>Sleep efficiency</th>\n",
              "      <td>0</td>\n",
              "    </tr>\n",
              "    <tr>\n",
              "      <th>REM sleep percentage</th>\n",
              "      <td>0</td>\n",
              "    </tr>\n",
              "    <tr>\n",
              "      <th>Deep sleep percentage</th>\n",
              "      <td>0</td>\n",
              "    </tr>\n",
              "    <tr>\n",
              "      <th>Light sleep percentage</th>\n",
              "      <td>0</td>\n",
              "    </tr>\n",
              "    <tr>\n",
              "      <th>Awakenings</th>\n",
              "      <td>0</td>\n",
              "    </tr>\n",
              "    <tr>\n",
              "      <th>Caffeine consumption</th>\n",
              "      <td>25</td>\n",
              "    </tr>\n",
              "    <tr>\n",
              "      <th>Alcohol consumption</th>\n",
              "      <td>14</td>\n",
              "    </tr>\n",
              "    <tr>\n",
              "      <th>Smoking status</th>\n",
              "      <td>0</td>\n",
              "    </tr>\n",
              "    <tr>\n",
              "      <th>Exercise frequency</th>\n",
              "      <td>6</td>\n",
              "    </tr>\n",
              "  </tbody>\n",
              "</table>\n",
              "</div><br><label><b>dtype:</b> int64</label>"
            ]
          },
          "metadata": {},
          "execution_count": 10
        }
      ]
    },
    {
      "cell_type": "code",
      "source": [
        "#since there doesn't seem to be actual decimal points, we can remove the decimals and make them into integers for more convenient use.\n",
        "df['Awakenings'].unique()"
      ],
      "metadata": {
        "colab": {
          "base_uri": "https://localhost:8080/"
        },
        "id": "QjYpTp1R3SIn",
        "outputId": "413ac929-2521-415d-f3b9-236fad5d7c10"
      },
      "execution_count": 11,
      "outputs": [
        {
          "output_type": "execute_result",
          "data": {
            "text/plain": [
              "array([0.0, 3.0, 1.0, 2.0, 4.0, '1.0'], dtype=object)"
            ]
          },
          "metadata": {},
          "execution_count": 11
        }
      ]
    },
    {
      "cell_type": "code",
      "source": [
        "df['Awakenings'] = pd.to_numeric(df['Awakenings'], errors='coerce')\n",
        "df['Awakenings'] = df['Awakenings'].round().astype(int)\n",
        "df['Awakenings']"
      ],
      "metadata": {
        "colab": {
          "base_uri": "https://localhost:8080/",
          "height": 0
        },
        "id": "jhzpEIfo5cFM",
        "outputId": "d82e4cb7-2d9a-4e53-c5ac-5641494a1fc7"
      },
      "execution_count": 12,
      "outputs": [
        {
          "output_type": "execute_result",
          "data": {
            "text/plain": [
              "0      0\n",
              "1      3\n",
              "2      1\n",
              "3      3\n",
              "4      3\n",
              "      ..\n",
              "447    0\n",
              "448    4\n",
              "449    1\n",
              "450    3\n",
              "451    1\n",
              "Name: Awakenings, Length: 452, dtype: int64"
            ],
            "text/html": [
              "<div>\n",
              "<style scoped>\n",
              "    .dataframe tbody tr th:only-of-type {\n",
              "        vertical-align: middle;\n",
              "    }\n",
              "\n",
              "    .dataframe tbody tr th {\n",
              "        vertical-align: top;\n",
              "    }\n",
              "\n",
              "    .dataframe thead th {\n",
              "        text-align: right;\n",
              "    }\n",
              "</style>\n",
              "<table border=\"1\" class=\"dataframe\">\n",
              "  <thead>\n",
              "    <tr style=\"text-align: right;\">\n",
              "      <th></th>\n",
              "      <th>Awakenings</th>\n",
              "    </tr>\n",
              "  </thead>\n",
              "  <tbody>\n",
              "    <tr>\n",
              "      <th>0</th>\n",
              "      <td>0</td>\n",
              "    </tr>\n",
              "    <tr>\n",
              "      <th>1</th>\n",
              "      <td>3</td>\n",
              "    </tr>\n",
              "    <tr>\n",
              "      <th>2</th>\n",
              "      <td>1</td>\n",
              "    </tr>\n",
              "    <tr>\n",
              "      <th>3</th>\n",
              "      <td>3</td>\n",
              "    </tr>\n",
              "    <tr>\n",
              "      <th>4</th>\n",
              "      <td>3</td>\n",
              "    </tr>\n",
              "    <tr>\n",
              "      <th>...</th>\n",
              "      <td>...</td>\n",
              "    </tr>\n",
              "    <tr>\n",
              "      <th>447</th>\n",
              "      <td>0</td>\n",
              "    </tr>\n",
              "    <tr>\n",
              "      <th>448</th>\n",
              "      <td>4</td>\n",
              "    </tr>\n",
              "    <tr>\n",
              "      <th>449</th>\n",
              "      <td>1</td>\n",
              "    </tr>\n",
              "    <tr>\n",
              "      <th>450</th>\n",
              "      <td>3</td>\n",
              "    </tr>\n",
              "    <tr>\n",
              "      <th>451</th>\n",
              "      <td>1</td>\n",
              "    </tr>\n",
              "  </tbody>\n",
              "</table>\n",
              "<p>452 rows × 1 columns</p>\n",
              "</div><br><label><b>dtype:</b> int64</label>"
            ]
          },
          "metadata": {},
          "execution_count": 12
        }
      ]
    },
    {
      "cell_type": "code",
      "source": [
        "df['Alcohol consumption'].value_counts()"
      ],
      "metadata": {
        "colab": {
          "base_uri": "https://localhost:8080/",
          "height": 0
        },
        "id": "6mSPfU8G6ywT",
        "outputId": "3a579382-2d2b-4c86-86da-f80453136e0e"
      },
      "execution_count": 13,
      "outputs": [
        {
          "output_type": "execute_result",
          "data": {
            "text/plain": [
              "Alcohol consumption\n",
              "0.0    246\n",
              "1.0     54\n",
              "3.0     48\n",
              "2.0     37\n",
              "5.0     30\n",
              "4.0     23\n",
              "Name: count, dtype: int64"
            ],
            "text/html": [
              "<div>\n",
              "<style scoped>\n",
              "    .dataframe tbody tr th:only-of-type {\n",
              "        vertical-align: middle;\n",
              "    }\n",
              "\n",
              "    .dataframe tbody tr th {\n",
              "        vertical-align: top;\n",
              "    }\n",
              "\n",
              "    .dataframe thead th {\n",
              "        text-align: right;\n",
              "    }\n",
              "</style>\n",
              "<table border=\"1\" class=\"dataframe\">\n",
              "  <thead>\n",
              "    <tr style=\"text-align: right;\">\n",
              "      <th></th>\n",
              "      <th>count</th>\n",
              "    </tr>\n",
              "    <tr>\n",
              "      <th>Alcohol consumption</th>\n",
              "      <th></th>\n",
              "    </tr>\n",
              "  </thead>\n",
              "  <tbody>\n",
              "    <tr>\n",
              "      <th>0.0</th>\n",
              "      <td>246</td>\n",
              "    </tr>\n",
              "    <tr>\n",
              "      <th>1.0</th>\n",
              "      <td>54</td>\n",
              "    </tr>\n",
              "    <tr>\n",
              "      <th>3.0</th>\n",
              "      <td>48</td>\n",
              "    </tr>\n",
              "    <tr>\n",
              "      <th>2.0</th>\n",
              "      <td>37</td>\n",
              "    </tr>\n",
              "    <tr>\n",
              "      <th>5.0</th>\n",
              "      <td>30</td>\n",
              "    </tr>\n",
              "    <tr>\n",
              "      <th>4.0</th>\n",
              "      <td>23</td>\n",
              "    </tr>\n",
              "  </tbody>\n",
              "</table>\n",
              "</div><br><label><b>dtype:</b> int64</label>"
            ]
          },
          "metadata": {},
          "execution_count": 13
        }
      ]
    },
    {
      "cell_type": "markdown",
      "source": [
        "Based on the frequency of values (0.0 being most frequent), mode imputation seems like the best and simplest choice in this case. Since most of the data represents no alcohol consumption, imputing the missing values with 0.0 is likely a reasonable and unbiased choice."
      ],
      "metadata": {
        "id": "Up98kIpS-Bz4"
      }
    },
    {
      "cell_type": "code",
      "source": [
        "df['Alcohol consumption'] = df['Alcohol consumption'].fillna('0.0')\n",
        "df.isna().sum()"
      ],
      "metadata": {
        "colab": {
          "base_uri": "https://localhost:8080/",
          "height": 0
        },
        "id": "HHk5ygjB9Ch5",
        "outputId": "afe8fa0c-dfa4-45eb-d64c-47a72832b148"
      },
      "execution_count": 14,
      "outputs": [
        {
          "output_type": "execute_result",
          "data": {
            "text/plain": [
              "ID                         0\n",
              "Age                        0\n",
              "Gender                     0\n",
              "Bedtime                    0\n",
              "Wakeup time                0\n",
              "Sleep duration             0\n",
              "Sleep efficiency           0\n",
              "REM sleep percentage       0\n",
              "Deep sleep percentage      0\n",
              "Light sleep percentage     0\n",
              "Awakenings                 0\n",
              "Caffeine consumption      25\n",
              "Alcohol consumption        0\n",
              "Smoking status             0\n",
              "Exercise frequency         6\n",
              "dtype: int64"
            ],
            "text/html": [
              "<div>\n",
              "<style scoped>\n",
              "    .dataframe tbody tr th:only-of-type {\n",
              "        vertical-align: middle;\n",
              "    }\n",
              "\n",
              "    .dataframe tbody tr th {\n",
              "        vertical-align: top;\n",
              "    }\n",
              "\n",
              "    .dataframe thead th {\n",
              "        text-align: right;\n",
              "    }\n",
              "</style>\n",
              "<table border=\"1\" class=\"dataframe\">\n",
              "  <thead>\n",
              "    <tr style=\"text-align: right;\">\n",
              "      <th></th>\n",
              "      <th>0</th>\n",
              "    </tr>\n",
              "  </thead>\n",
              "  <tbody>\n",
              "    <tr>\n",
              "      <th>ID</th>\n",
              "      <td>0</td>\n",
              "    </tr>\n",
              "    <tr>\n",
              "      <th>Age</th>\n",
              "      <td>0</td>\n",
              "    </tr>\n",
              "    <tr>\n",
              "      <th>Gender</th>\n",
              "      <td>0</td>\n",
              "    </tr>\n",
              "    <tr>\n",
              "      <th>Bedtime</th>\n",
              "      <td>0</td>\n",
              "    </tr>\n",
              "    <tr>\n",
              "      <th>Wakeup time</th>\n",
              "      <td>0</td>\n",
              "    </tr>\n",
              "    <tr>\n",
              "      <th>Sleep duration</th>\n",
              "      <td>0</td>\n",
              "    </tr>\n",
              "    <tr>\n",
              "      <th>Sleep efficiency</th>\n",
              "      <td>0</td>\n",
              "    </tr>\n",
              "    <tr>\n",
              "      <th>REM sleep percentage</th>\n",
              "      <td>0</td>\n",
              "    </tr>\n",
              "    <tr>\n",
              "      <th>Deep sleep percentage</th>\n",
              "      <td>0</td>\n",
              "    </tr>\n",
              "    <tr>\n",
              "      <th>Light sleep percentage</th>\n",
              "      <td>0</td>\n",
              "    </tr>\n",
              "    <tr>\n",
              "      <th>Awakenings</th>\n",
              "      <td>0</td>\n",
              "    </tr>\n",
              "    <tr>\n",
              "      <th>Caffeine consumption</th>\n",
              "      <td>25</td>\n",
              "    </tr>\n",
              "    <tr>\n",
              "      <th>Alcohol consumption</th>\n",
              "      <td>0</td>\n",
              "    </tr>\n",
              "    <tr>\n",
              "      <th>Smoking status</th>\n",
              "      <td>0</td>\n",
              "    </tr>\n",
              "    <tr>\n",
              "      <th>Exercise frequency</th>\n",
              "      <td>6</td>\n",
              "    </tr>\n",
              "  </tbody>\n",
              "</table>\n",
              "</div><br><label><b>dtype:</b> int64</label>"
            ]
          },
          "metadata": {},
          "execution_count": 14
        }
      ]
    },
    {
      "cell_type": "code",
      "source": [
        "#change 'Alcohol consumption' values into integers as well\n",
        "df['Alcohol consumption'] = pd.to_numeric(df['Alcohol consumption'], errors='coerce')\n",
        "df['Alcohol consumption'] = df['Alcohol consumption'].round().astype(int)\n",
        "df['Alcohol consumption']"
      ],
      "metadata": {
        "colab": {
          "base_uri": "https://localhost:8080/",
          "height": 0
        },
        "id": "hm0_p88e-pKl",
        "outputId": "1dddc1ed-4a32-4bdc-a89e-f38065dc6cb3"
      },
      "execution_count": 15,
      "outputs": [
        {
          "output_type": "execute_result",
          "data": {
            "text/plain": [
              "0      0\n",
              "1      3\n",
              "2      0\n",
              "3      5\n",
              "4      3\n",
              "      ..\n",
              "447    0\n",
              "448    0\n",
              "449    3\n",
              "450    0\n",
              "451    0\n",
              "Name: Alcohol consumption, Length: 452, dtype: int64"
            ],
            "text/html": [
              "<div>\n",
              "<style scoped>\n",
              "    .dataframe tbody tr th:only-of-type {\n",
              "        vertical-align: middle;\n",
              "    }\n",
              "\n",
              "    .dataframe tbody tr th {\n",
              "        vertical-align: top;\n",
              "    }\n",
              "\n",
              "    .dataframe thead th {\n",
              "        text-align: right;\n",
              "    }\n",
              "</style>\n",
              "<table border=\"1\" class=\"dataframe\">\n",
              "  <thead>\n",
              "    <tr style=\"text-align: right;\">\n",
              "      <th></th>\n",
              "      <th>Alcohol consumption</th>\n",
              "    </tr>\n",
              "  </thead>\n",
              "  <tbody>\n",
              "    <tr>\n",
              "      <th>0</th>\n",
              "      <td>0</td>\n",
              "    </tr>\n",
              "    <tr>\n",
              "      <th>1</th>\n",
              "      <td>3</td>\n",
              "    </tr>\n",
              "    <tr>\n",
              "      <th>2</th>\n",
              "      <td>0</td>\n",
              "    </tr>\n",
              "    <tr>\n",
              "      <th>3</th>\n",
              "      <td>5</td>\n",
              "    </tr>\n",
              "    <tr>\n",
              "      <th>4</th>\n",
              "      <td>3</td>\n",
              "    </tr>\n",
              "    <tr>\n",
              "      <th>...</th>\n",
              "      <td>...</td>\n",
              "    </tr>\n",
              "    <tr>\n",
              "      <th>447</th>\n",
              "      <td>0</td>\n",
              "    </tr>\n",
              "    <tr>\n",
              "      <th>448</th>\n",
              "      <td>0</td>\n",
              "    </tr>\n",
              "    <tr>\n",
              "      <th>449</th>\n",
              "      <td>3</td>\n",
              "    </tr>\n",
              "    <tr>\n",
              "      <th>450</th>\n",
              "      <td>0</td>\n",
              "    </tr>\n",
              "    <tr>\n",
              "      <th>451</th>\n",
              "      <td>0</td>\n",
              "    </tr>\n",
              "  </tbody>\n",
              "</table>\n",
              "<p>452 rows × 1 columns</p>\n",
              "</div><br><label><b>dtype:</b> int64</label>"
            ]
          },
          "metadata": {},
          "execution_count": 15
        }
      ]
    },
    {
      "cell_type": "code",
      "source": [
        "df['Caffeine consumption'].value_counts()"
      ],
      "metadata": {
        "colab": {
          "base_uri": "https://localhost:8080/",
          "height": 0
        },
        "id": "EwM0cPdZ_mdy",
        "outputId": "9dfd06e3-0a25-4db8-b900-7e100c9df2e8"
      },
      "execution_count": 16,
      "outputs": [
        {
          "output_type": "execute_result",
          "data": {
            "text/plain": [
              "Caffeine consumption\n",
              "0.0      211\n",
              "50.0     107\n",
              "25.0      79\n",
              "75.0      25\n",
              "200.0      4\n",
              "100.0      1\n",
              "Name: count, dtype: int64"
            ],
            "text/html": [
              "<div>\n",
              "<style scoped>\n",
              "    .dataframe tbody tr th:only-of-type {\n",
              "        vertical-align: middle;\n",
              "    }\n",
              "\n",
              "    .dataframe tbody tr th {\n",
              "        vertical-align: top;\n",
              "    }\n",
              "\n",
              "    .dataframe thead th {\n",
              "        text-align: right;\n",
              "    }\n",
              "</style>\n",
              "<table border=\"1\" class=\"dataframe\">\n",
              "  <thead>\n",
              "    <tr style=\"text-align: right;\">\n",
              "      <th></th>\n",
              "      <th>count</th>\n",
              "    </tr>\n",
              "    <tr>\n",
              "      <th>Caffeine consumption</th>\n",
              "      <th></th>\n",
              "    </tr>\n",
              "  </thead>\n",
              "  <tbody>\n",
              "    <tr>\n",
              "      <th>0.0</th>\n",
              "      <td>211</td>\n",
              "    </tr>\n",
              "    <tr>\n",
              "      <th>50.0</th>\n",
              "      <td>107</td>\n",
              "    </tr>\n",
              "    <tr>\n",
              "      <th>25.0</th>\n",
              "      <td>79</td>\n",
              "    </tr>\n",
              "    <tr>\n",
              "      <th>75.0</th>\n",
              "      <td>25</td>\n",
              "    </tr>\n",
              "    <tr>\n",
              "      <th>200.0</th>\n",
              "      <td>4</td>\n",
              "    </tr>\n",
              "    <tr>\n",
              "      <th>100.0</th>\n",
              "      <td>1</td>\n",
              "    </tr>\n",
              "  </tbody>\n",
              "</table>\n",
              "</div><br><label><b>dtype:</b> int64</label>"
            ]
          },
          "metadata": {},
          "execution_count": 16
        }
      ]
    },
    {
      "cell_type": "markdown",
      "source": [
        "To avoid heavily skewing the imputation towards 0.0 caffeine consumption, it would likely be better to use median imputation to fill in the null values in the 'Caffeine consumption' column."
      ],
      "metadata": {
        "id": "aAUe4XgqGWwq"
      }
    },
    {
      "cell_type": "code",
      "source": [
        "#directly fill nulls with median of the 'Caffeine consumption' column\n",
        "df['Caffeine consumption'] = df['Caffeine consumption'].fillna(df['Caffeine consumption'].median())\n",
        "df['Caffeine consumption']"
      ],
      "metadata": {
        "colab": {
          "base_uri": "https://localhost:8080/",
          "height": 0
        },
        "id": "kVLXt6KZ_0dE",
        "outputId": "688a1ec9-3ebf-469b-c2f7-80a306ad1f04"
      },
      "execution_count": 17,
      "outputs": [
        {
          "output_type": "execute_result",
          "data": {
            "text/plain": [
              "0       0.0\n",
              "1       0.0\n",
              "2       0.0\n",
              "3      50.0\n",
              "4       0.0\n",
              "       ... \n",
              "447     0.0\n",
              "448    25.0\n",
              "449    25.0\n",
              "450     0.0\n",
              "451    50.0\n",
              "Name: Caffeine consumption, Length: 452, dtype: float64"
            ],
            "text/html": [
              "<div>\n",
              "<style scoped>\n",
              "    .dataframe tbody tr th:only-of-type {\n",
              "        vertical-align: middle;\n",
              "    }\n",
              "\n",
              "    .dataframe tbody tr th {\n",
              "        vertical-align: top;\n",
              "    }\n",
              "\n",
              "    .dataframe thead th {\n",
              "        text-align: right;\n",
              "    }\n",
              "</style>\n",
              "<table border=\"1\" class=\"dataframe\">\n",
              "  <thead>\n",
              "    <tr style=\"text-align: right;\">\n",
              "      <th></th>\n",
              "      <th>Caffeine consumption</th>\n",
              "    </tr>\n",
              "  </thead>\n",
              "  <tbody>\n",
              "    <tr>\n",
              "      <th>0</th>\n",
              "      <td>0.0</td>\n",
              "    </tr>\n",
              "    <tr>\n",
              "      <th>1</th>\n",
              "      <td>0.0</td>\n",
              "    </tr>\n",
              "    <tr>\n",
              "      <th>2</th>\n",
              "      <td>0.0</td>\n",
              "    </tr>\n",
              "    <tr>\n",
              "      <th>3</th>\n",
              "      <td>50.0</td>\n",
              "    </tr>\n",
              "    <tr>\n",
              "      <th>4</th>\n",
              "      <td>0.0</td>\n",
              "    </tr>\n",
              "    <tr>\n",
              "      <th>...</th>\n",
              "      <td>...</td>\n",
              "    </tr>\n",
              "    <tr>\n",
              "      <th>447</th>\n",
              "      <td>0.0</td>\n",
              "    </tr>\n",
              "    <tr>\n",
              "      <th>448</th>\n",
              "      <td>25.0</td>\n",
              "    </tr>\n",
              "    <tr>\n",
              "      <th>449</th>\n",
              "      <td>25.0</td>\n",
              "    </tr>\n",
              "    <tr>\n",
              "      <th>450</th>\n",
              "      <td>0.0</td>\n",
              "    </tr>\n",
              "    <tr>\n",
              "      <th>451</th>\n",
              "      <td>50.0</td>\n",
              "    </tr>\n",
              "  </tbody>\n",
              "</table>\n",
              "<p>452 rows × 1 columns</p>\n",
              "</div><br><label><b>dtype:</b> float64</label>"
            ]
          },
          "metadata": {},
          "execution_count": 17
        }
      ]
    },
    {
      "cell_type": "code",
      "source": [
        "#same deal with removing decimal and turning values in the column to integers for easier future use.\n",
        "\n",
        "df['Caffeine consumption'] = pd.to_numeric(df['Caffeine consumption'], errors='coerce')\n",
        "df['Caffeine consumption'] = df['Caffeine consumption'].round().astype(int)\n",
        "df['Caffeine consumption']"
      ],
      "metadata": {
        "colab": {
          "base_uri": "https://localhost:8080/",
          "height": 0
        },
        "id": "v3SnHmZ7G6ns",
        "outputId": "2a0539d2-83b5-457d-e8d1-0105263cbe49"
      },
      "execution_count": 18,
      "outputs": [
        {
          "output_type": "execute_result",
          "data": {
            "text/plain": [
              "0       0\n",
              "1       0\n",
              "2       0\n",
              "3      50\n",
              "4       0\n",
              "       ..\n",
              "447     0\n",
              "448    25\n",
              "449    25\n",
              "450     0\n",
              "451    50\n",
              "Name: Caffeine consumption, Length: 452, dtype: int64"
            ],
            "text/html": [
              "<div>\n",
              "<style scoped>\n",
              "    .dataframe tbody tr th:only-of-type {\n",
              "        vertical-align: middle;\n",
              "    }\n",
              "\n",
              "    .dataframe tbody tr th {\n",
              "        vertical-align: top;\n",
              "    }\n",
              "\n",
              "    .dataframe thead th {\n",
              "        text-align: right;\n",
              "    }\n",
              "</style>\n",
              "<table border=\"1\" class=\"dataframe\">\n",
              "  <thead>\n",
              "    <tr style=\"text-align: right;\">\n",
              "      <th></th>\n",
              "      <th>Caffeine consumption</th>\n",
              "    </tr>\n",
              "  </thead>\n",
              "  <tbody>\n",
              "    <tr>\n",
              "      <th>0</th>\n",
              "      <td>0</td>\n",
              "    </tr>\n",
              "    <tr>\n",
              "      <th>1</th>\n",
              "      <td>0</td>\n",
              "    </tr>\n",
              "    <tr>\n",
              "      <th>2</th>\n",
              "      <td>0</td>\n",
              "    </tr>\n",
              "    <tr>\n",
              "      <th>3</th>\n",
              "      <td>50</td>\n",
              "    </tr>\n",
              "    <tr>\n",
              "      <th>4</th>\n",
              "      <td>0</td>\n",
              "    </tr>\n",
              "    <tr>\n",
              "      <th>...</th>\n",
              "      <td>...</td>\n",
              "    </tr>\n",
              "    <tr>\n",
              "      <th>447</th>\n",
              "      <td>0</td>\n",
              "    </tr>\n",
              "    <tr>\n",
              "      <th>448</th>\n",
              "      <td>25</td>\n",
              "    </tr>\n",
              "    <tr>\n",
              "      <th>449</th>\n",
              "      <td>25</td>\n",
              "    </tr>\n",
              "    <tr>\n",
              "      <th>450</th>\n",
              "      <td>0</td>\n",
              "    </tr>\n",
              "    <tr>\n",
              "      <th>451</th>\n",
              "      <td>50</td>\n",
              "    </tr>\n",
              "  </tbody>\n",
              "</table>\n",
              "<p>452 rows × 1 columns</p>\n",
              "</div><br><label><b>dtype:</b> int64</label>"
            ]
          },
          "metadata": {},
          "execution_count": 18
        }
      ]
    },
    {
      "cell_type": "code",
      "source": [
        "df['Exercise frequency'].value_counts()"
      ],
      "metadata": {
        "colab": {
          "base_uri": "https://localhost:8080/",
          "height": 0
        },
        "id": "tft3cKYXG_9M",
        "outputId": "d5351d0f-065b-4a64-9be9-3c0882928c47"
      },
      "execution_count": 19,
      "outputs": [
        {
          "output_type": "execute_result",
          "data": {
            "text/plain": [
              "Exercise frequency\n",
              "3.0    130\n",
              "0.0    116\n",
              "1.0     97\n",
              "2.0     54\n",
              "4.0     41\n",
              "5.0      8\n",
              "Name: count, dtype: int64"
            ],
            "text/html": [
              "<div>\n",
              "<style scoped>\n",
              "    .dataframe tbody tr th:only-of-type {\n",
              "        vertical-align: middle;\n",
              "    }\n",
              "\n",
              "    .dataframe tbody tr th {\n",
              "        vertical-align: top;\n",
              "    }\n",
              "\n",
              "    .dataframe thead th {\n",
              "        text-align: right;\n",
              "    }\n",
              "</style>\n",
              "<table border=\"1\" class=\"dataframe\">\n",
              "  <thead>\n",
              "    <tr style=\"text-align: right;\">\n",
              "      <th></th>\n",
              "      <th>count</th>\n",
              "    </tr>\n",
              "    <tr>\n",
              "      <th>Exercise frequency</th>\n",
              "      <th></th>\n",
              "    </tr>\n",
              "  </thead>\n",
              "  <tbody>\n",
              "    <tr>\n",
              "      <th>3.0</th>\n",
              "      <td>130</td>\n",
              "    </tr>\n",
              "    <tr>\n",
              "      <th>0.0</th>\n",
              "      <td>116</td>\n",
              "    </tr>\n",
              "    <tr>\n",
              "      <th>1.0</th>\n",
              "      <td>97</td>\n",
              "    </tr>\n",
              "    <tr>\n",
              "      <th>2.0</th>\n",
              "      <td>54</td>\n",
              "    </tr>\n",
              "    <tr>\n",
              "      <th>4.0</th>\n",
              "      <td>41</td>\n",
              "    </tr>\n",
              "    <tr>\n",
              "      <th>5.0</th>\n",
              "      <td>8</td>\n",
              "    </tr>\n",
              "  </tbody>\n",
              "</table>\n",
              "</div><br><label><b>dtype:</b> int64</label>"
            ]
          },
          "metadata": {},
          "execution_count": 19
        }
      ]
    },
    {
      "cell_type": "markdown",
      "source": [
        "Mode imputation is the most natural choice for the 6 'Exercies frequency' column, since 3.0 is the most frequent value, and the null values are likely to represent a similar pattern of exercise frequency."
      ],
      "metadata": {
        "id": "BtrTFfX1Iru7"
      }
    },
    {
      "cell_type": "code",
      "source": [
        "df['Exercise frequency'] = df['Exercise frequency'].fillna(df['Exercise frequency'].mode()[0])\n",
        "df['Exercise frequency']"
      ],
      "metadata": {
        "colab": {
          "base_uri": "https://localhost:8080/",
          "height": 0
        },
        "id": "OPcr6mBYHohX",
        "outputId": "667251b5-79a6-4a4c-d235-2c8ed50cf87f"
      },
      "execution_count": 20,
      "outputs": [
        {
          "output_type": "execute_result",
          "data": {
            "text/plain": [
              "0      3.0\n",
              "1      3.0\n",
              "2      3.0\n",
              "3      1.0\n",
              "4      3.0\n",
              "      ... \n",
              "447    5.0\n",
              "448    3.0\n",
              "449    0.0\n",
              "450    3.0\n",
              "451    1.0\n",
              "Name: Exercise frequency, Length: 452, dtype: float64"
            ],
            "text/html": [
              "<div>\n",
              "<style scoped>\n",
              "    .dataframe tbody tr th:only-of-type {\n",
              "        vertical-align: middle;\n",
              "    }\n",
              "\n",
              "    .dataframe tbody tr th {\n",
              "        vertical-align: top;\n",
              "    }\n",
              "\n",
              "    .dataframe thead th {\n",
              "        text-align: right;\n",
              "    }\n",
              "</style>\n",
              "<table border=\"1\" class=\"dataframe\">\n",
              "  <thead>\n",
              "    <tr style=\"text-align: right;\">\n",
              "      <th></th>\n",
              "      <th>Exercise frequency</th>\n",
              "    </tr>\n",
              "  </thead>\n",
              "  <tbody>\n",
              "    <tr>\n",
              "      <th>0</th>\n",
              "      <td>3.0</td>\n",
              "    </tr>\n",
              "    <tr>\n",
              "      <th>1</th>\n",
              "      <td>3.0</td>\n",
              "    </tr>\n",
              "    <tr>\n",
              "      <th>2</th>\n",
              "      <td>3.0</td>\n",
              "    </tr>\n",
              "    <tr>\n",
              "      <th>3</th>\n",
              "      <td>1.0</td>\n",
              "    </tr>\n",
              "    <tr>\n",
              "      <th>4</th>\n",
              "      <td>3.0</td>\n",
              "    </tr>\n",
              "    <tr>\n",
              "      <th>...</th>\n",
              "      <td>...</td>\n",
              "    </tr>\n",
              "    <tr>\n",
              "      <th>447</th>\n",
              "      <td>5.0</td>\n",
              "    </tr>\n",
              "    <tr>\n",
              "      <th>448</th>\n",
              "      <td>3.0</td>\n",
              "    </tr>\n",
              "    <tr>\n",
              "      <th>449</th>\n",
              "      <td>0.0</td>\n",
              "    </tr>\n",
              "    <tr>\n",
              "      <th>450</th>\n",
              "      <td>3.0</td>\n",
              "    </tr>\n",
              "    <tr>\n",
              "      <th>451</th>\n",
              "      <td>1.0</td>\n",
              "    </tr>\n",
              "  </tbody>\n",
              "</table>\n",
              "<p>452 rows × 1 columns</p>\n",
              "</div><br><label><b>dtype:</b> float64</label>"
            ]
          },
          "metadata": {},
          "execution_count": 20
        }
      ]
    },
    {
      "cell_type": "code",
      "source": [
        "df.isna().sum()\n",
        "#finally null value free!"
      ],
      "metadata": {
        "colab": {
          "base_uri": "https://localhost:8080/",
          "height": 0
        },
        "id": "yUAkF2fPI4p-",
        "outputId": "85a47aaa-0298-4b41-a9f8-eed0ad6d0b9c"
      },
      "execution_count": 21,
      "outputs": [
        {
          "output_type": "execute_result",
          "data": {
            "text/plain": [
              "ID                        0\n",
              "Age                       0\n",
              "Gender                    0\n",
              "Bedtime                   0\n",
              "Wakeup time               0\n",
              "Sleep duration            0\n",
              "Sleep efficiency          0\n",
              "REM sleep percentage      0\n",
              "Deep sleep percentage     0\n",
              "Light sleep percentage    0\n",
              "Awakenings                0\n",
              "Caffeine consumption      0\n",
              "Alcohol consumption       0\n",
              "Smoking status            0\n",
              "Exercise frequency        0\n",
              "dtype: int64"
            ],
            "text/html": [
              "<div>\n",
              "<style scoped>\n",
              "    .dataframe tbody tr th:only-of-type {\n",
              "        vertical-align: middle;\n",
              "    }\n",
              "\n",
              "    .dataframe tbody tr th {\n",
              "        vertical-align: top;\n",
              "    }\n",
              "\n",
              "    .dataframe thead th {\n",
              "        text-align: right;\n",
              "    }\n",
              "</style>\n",
              "<table border=\"1\" class=\"dataframe\">\n",
              "  <thead>\n",
              "    <tr style=\"text-align: right;\">\n",
              "      <th></th>\n",
              "      <th>0</th>\n",
              "    </tr>\n",
              "  </thead>\n",
              "  <tbody>\n",
              "    <tr>\n",
              "      <th>ID</th>\n",
              "      <td>0</td>\n",
              "    </tr>\n",
              "    <tr>\n",
              "      <th>Age</th>\n",
              "      <td>0</td>\n",
              "    </tr>\n",
              "    <tr>\n",
              "      <th>Gender</th>\n",
              "      <td>0</td>\n",
              "    </tr>\n",
              "    <tr>\n",
              "      <th>Bedtime</th>\n",
              "      <td>0</td>\n",
              "    </tr>\n",
              "    <tr>\n",
              "      <th>Wakeup time</th>\n",
              "      <td>0</td>\n",
              "    </tr>\n",
              "    <tr>\n",
              "      <th>Sleep duration</th>\n",
              "      <td>0</td>\n",
              "    </tr>\n",
              "    <tr>\n",
              "      <th>Sleep efficiency</th>\n",
              "      <td>0</td>\n",
              "    </tr>\n",
              "    <tr>\n",
              "      <th>REM sleep percentage</th>\n",
              "      <td>0</td>\n",
              "    </tr>\n",
              "    <tr>\n",
              "      <th>Deep sleep percentage</th>\n",
              "      <td>0</td>\n",
              "    </tr>\n",
              "    <tr>\n",
              "      <th>Light sleep percentage</th>\n",
              "      <td>0</td>\n",
              "    </tr>\n",
              "    <tr>\n",
              "      <th>Awakenings</th>\n",
              "      <td>0</td>\n",
              "    </tr>\n",
              "    <tr>\n",
              "      <th>Caffeine consumption</th>\n",
              "      <td>0</td>\n",
              "    </tr>\n",
              "    <tr>\n",
              "      <th>Alcohol consumption</th>\n",
              "      <td>0</td>\n",
              "    </tr>\n",
              "    <tr>\n",
              "      <th>Smoking status</th>\n",
              "      <td>0</td>\n",
              "    </tr>\n",
              "    <tr>\n",
              "      <th>Exercise frequency</th>\n",
              "      <td>0</td>\n",
              "    </tr>\n",
              "  </tbody>\n",
              "</table>\n",
              "</div><br><label><b>dtype:</b> int64</label>"
            ]
          },
          "metadata": {},
          "execution_count": 21
        }
      ]
    },
    {
      "cell_type": "code",
      "source": [
        "df['Exercise frequency'] = pd.to_numeric(df['Exercise frequency'], errors='coerce')\n",
        "df['Exercise frequency'] = df['Exercise frequency'].round().astype(int)\n",
        "df['Exercise frequency']"
      ],
      "metadata": {
        "colab": {
          "base_uri": "https://localhost:8080/",
          "height": 0
        },
        "id": "63fDoNUBI753",
        "outputId": "3db5a265-1925-4a28-f3e6-990b327df0bf"
      },
      "execution_count": 22,
      "outputs": [
        {
          "output_type": "execute_result",
          "data": {
            "text/plain": [
              "0      3\n",
              "1      3\n",
              "2      3\n",
              "3      1\n",
              "4      3\n",
              "      ..\n",
              "447    5\n",
              "448    3\n",
              "449    0\n",
              "450    3\n",
              "451    1\n",
              "Name: Exercise frequency, Length: 452, dtype: int64"
            ],
            "text/html": [
              "<div>\n",
              "<style scoped>\n",
              "    .dataframe tbody tr th:only-of-type {\n",
              "        vertical-align: middle;\n",
              "    }\n",
              "\n",
              "    .dataframe tbody tr th {\n",
              "        vertical-align: top;\n",
              "    }\n",
              "\n",
              "    .dataframe thead th {\n",
              "        text-align: right;\n",
              "    }\n",
              "</style>\n",
              "<table border=\"1\" class=\"dataframe\">\n",
              "  <thead>\n",
              "    <tr style=\"text-align: right;\">\n",
              "      <th></th>\n",
              "      <th>Exercise frequency</th>\n",
              "    </tr>\n",
              "  </thead>\n",
              "  <tbody>\n",
              "    <tr>\n",
              "      <th>0</th>\n",
              "      <td>3</td>\n",
              "    </tr>\n",
              "    <tr>\n",
              "      <th>1</th>\n",
              "      <td>3</td>\n",
              "    </tr>\n",
              "    <tr>\n",
              "      <th>2</th>\n",
              "      <td>3</td>\n",
              "    </tr>\n",
              "    <tr>\n",
              "      <th>3</th>\n",
              "      <td>1</td>\n",
              "    </tr>\n",
              "    <tr>\n",
              "      <th>4</th>\n",
              "      <td>3</td>\n",
              "    </tr>\n",
              "    <tr>\n",
              "      <th>...</th>\n",
              "      <td>...</td>\n",
              "    </tr>\n",
              "    <tr>\n",
              "      <th>447</th>\n",
              "      <td>5</td>\n",
              "    </tr>\n",
              "    <tr>\n",
              "      <th>448</th>\n",
              "      <td>3</td>\n",
              "    </tr>\n",
              "    <tr>\n",
              "      <th>449</th>\n",
              "      <td>0</td>\n",
              "    </tr>\n",
              "    <tr>\n",
              "      <th>450</th>\n",
              "      <td>3</td>\n",
              "    </tr>\n",
              "    <tr>\n",
              "      <th>451</th>\n",
              "      <td>1</td>\n",
              "    </tr>\n",
              "  </tbody>\n",
              "</table>\n",
              "<p>452 rows × 1 columns</p>\n",
              "</div><br><label><b>dtype:</b> int64</label>"
            ]
          },
          "metadata": {},
          "execution_count": 22
        }
      ]
    },
    {
      "cell_type": "code",
      "source": [
        "#rename these two columns to include units\n",
        "df = df.rename(columns={'Alcohol consumption': 'Alcohol Consumption (oz)'})\n",
        "df = df.rename(columns={'Caffeine consumption': 'Caffeine Consumption (mg)'})\n",
        "df = df.rename(columns={'Sleep duration': 'Sleep Duration'})"
      ],
      "metadata": {
        "id": "A8NT46yhKEmw"
      },
      "execution_count": 23,
      "outputs": []
    },
    {
      "cell_type": "markdown",
      "source": [
        "The dataframe should now be ready for descriptive analyses!"
      ],
      "metadata": {
        "id": "mkZwNd6vLJmE"
      }
    },
    {
      "cell_type": "markdown",
      "source": [
        "#Descriptive Analyses"
      ],
      "metadata": {
        "id": "1sXZ0HfaLMgP"
      }
    },
    {
      "cell_type": "markdown",
      "source": [
        "###How many male and females are represented in this dataset?"
      ],
      "metadata": {
        "id": "aEaPXYG8Lsq5"
      }
    },
    {
      "cell_type": "code",
      "source": [
        "#create a countplot to represent number of each gender\n",
        "\n",
        "ax = sns.countplot(data=df, x='Gender', palette='RdBu')\n",
        "plt.title('Gender Bar Chart', fontweight='bold')\n",
        "plt.xlabel('Gender', fontweight='bold')\n",
        "plt.ylabel('Count')\n",
        "\n",
        "for p in ax.patches:\n",
        "    height = p.get_height()\n",
        "    x_position = p.get_x() + p.get_width() / 2\n",
        "    ax.text(x_position, height, int(height), ha='center', va='bottom', color='black', fontweight='bold')"
      ],
      "metadata": {
        "colab": {
          "base_uri": "https://localhost:8080/",
          "height": 581
        },
        "id": "xrw7k4woLsQ9",
        "outputId": "231b5906-378b-493e-c458-8842cc5bd79f"
      },
      "execution_count": 118,
      "outputs": [
        {
          "output_type": "stream",
          "name": "stderr",
          "text": [
            "<ipython-input-118-0a6c306ad297>:3: FutureWarning: \n",
            "\n",
            "Passing `palette` without assigning `hue` is deprecated and will be removed in v0.14.0. Assign the `x` variable to `hue` and set `legend=False` for the same effect.\n",
            "\n",
            "  ax = sns.countplot(data=df, x='Gender', palette='RdBu')\n"
          ]
        },
        {
          "output_type": "display_data",
          "data": {
            "text/plain": [
              "<Figure size 640x480 with 1 Axes>"
            ],
            "image/png": "[encoded data removed]"
          },
          "metadata": {}
        }
      ]
    },
    {
      "cell_type": "markdown",
      "source": [
        "###What is the distribution of age?"
      ],
      "metadata": {
        "id": "81h-fL7vLRQl"
      }
    },
    {
      "cell_type": "code",
      "source": [
        "#use matplotlib to create histogram\n",
        "#make it into a function so any column's distribution can be created into a histogram\n",
        "\n",
        "def plot_histogram(data, column, color, bins):\n",
        "  mean = data[column].mean()\n",
        "  plt.hist(data[column], bins=bins, color = color, edgecolor='black')\n",
        "  plt.title(f\"Histogram of {column}\", fontweight='bold')\n",
        "  plt.xlabel(column, fontweight='bold')\n",
        "  plt.ylabel('Frequency', fontweight='bold')\n",
        "  plt.vlines(mean, ymin=0, ymax=20, color='orange')\n",
        "  ax = plt.gca()\n",
        "  for rect in ax.patches:\n",
        "    height = rect.get_height()\n",
        "    x_position = rect.get_x() + rect.get_width() / 2\n",
        "    plt.text(x_position, height, str(int(height)), ha='center', va='bottom')\n",
        "\n",
        "plot_histogram(df, 'Age', 'purple', 20)"
      ],
      "metadata": {
        "colab": {
          "base_uri": "https://localhost:8080/",
          "height": 472
        },
        "id": "-hugqazdLMPc",
        "outputId": "d0f6358d-772a-4a7e-fa92-f8b3368302a9"
      },
      "execution_count": 110,
      "outputs": [
        {
          "output_type": "display_data",
          "data": {
            "text/plain": [
              "<Figure size 640x480 with 1 Axes>"
            ],
            "image/png": "[encoded data removed]"
          },
          "metadata": {}
        }
      ]
    },
    {
      "cell_type": "code",
      "source": [
        "#how many individuals fall between the 25-60 age range?\n",
        "\n",
        "age_filtered = df[(df['Age'] >= 25) & (df['Age'] <= 60)]\n",
        "age_filtered.shape[0]"
      ],
      "metadata": {
        "colab": {
          "base_uri": "https://localhost:8080/"
        },
        "id": "wuRDOY2RNdNe",
        "outputId": "79f7d76b-8f07-4892-a6cd-c70305f1b587"
      },
      "execution_count": 120,
      "outputs": [
        {
          "output_type": "execute_result",
          "data": {
            "text/plain": [
              "365"
            ]
          },
          "metadata": {},
          "execution_count": 120
        }
      ]
    },
    {
      "cell_type": "code",
      "source": [
        "df['Age'].mean()"
      ],
      "metadata": {
        "colab": {
          "base_uri": "https://localhost:8080/"
        },
        "id": "IWX1TK0JOJjm",
        "outputId": "537efdd7-bae1-48e0-f571-08083e0a017a"
      },
      "execution_count": 121,
      "outputs": [
        {
          "output_type": "execute_result",
          "data": {
            "text/plain": [
              "40.2853982300885"
            ]
          },
          "metadata": {},
          "execution_count": 121
        }
      ]
    },
    {
      "cell_type": "markdown",
      "source": [
        "###What is the distribution of sleep duration?"
      ],
      "metadata": {
        "id": "LiNWJbbNO6VE"
      }
    },
    {
      "cell_type": "code",
      "source": [
        "plot_histogram(df, 'Sleep Duration', 'brown', 5)"
      ],
      "metadata": {
        "colab": {
          "base_uri": "https://localhost:8080/",
          "height": 472
        },
        "id": "pXsdgsjCNxzN",
        "outputId": "043398fc-1ec6-4b51-a633-efabafa0fd7b"
      },
      "execution_count": 111,
      "outputs": [
        {
          "output_type": "display_data",
          "data": {
            "text/plain": [
              "<Figure size 640x480 with 1 Axes>"
            ],
            "image/png": "[encoded data removed]"
          },
          "metadata": {}
        }
      ]
    },
    {
      "cell_type": "markdown",
      "source": [
        "###What is the distribution of sleep efficiency?"
      ],
      "metadata": {
        "id": "r8KsXs_zQw4W"
      }
    },
    {
      "cell_type": "code",
      "source": [
        "plot_histogram(df, 'Sleep efficiency', 'green', 15)"
      ],
      "metadata": {
        "colab": {
          "base_uri": "https://localhost:8080/",
          "height": 472
        },
        "id": "XIxJc9PtPGHL",
        "outputId": "05db61fa-da28-478b-d3af-3a899a5f0c71"
      },
      "execution_count": 112,
      "outputs": [
        {
          "output_type": "display_data",
          "data": {
            "text/plain": [
              "<Figure size 640x480 with 1 Axes>"
            ],
            "image/png": "[encoded data removed]"
          },
          "metadata": {}
        }
      ]
    },
    {
      "cell_type": "markdown",
      "source": [
        "###Any correlation between the columns with numerical values?"
      ],
      "metadata": {
        "id": "UBd8zvU1R3hE"
      }
    },
    {
      "cell_type": "code",
      "source": [
        "#create a correlation matrix\n",
        "\n",
        "num_df = df.select_dtypes(include=[np.number])\n",
        "\n",
        "matrix = num_df.corr()\n",
        "\n",
        "plt.figure(figsize=(12, 8))\n",
        "sns.heatmap(matrix, annot=True, cmap='Spectral', fmt='.2f')\n",
        "plt.title('Correlation Matrix for Numerical Columns of Sleep Efficiency Dataset')\n",
        "plt.show()"
      ],
      "metadata": {
        "colab": {
          "base_uri": "https://localhost:8080/",
          "height": 838
        },
        "id": "u_PiKOwCQSAl",
        "outputId": "1975101c-b5f5-4d76-e3bc-eb40f14fc166"
      },
      "execution_count": 27,
      "outputs": [
        {
          "output_type": "display_data",
          "data": {
            "text/plain": [
              "<Figure size 1200x800 with 2 Axes>"
            ],
            "image/png": "[encoded data removed]"
          },
          "metadata": {}
        }
      ]
    },
    {
      "cell_type": "markdown",
      "source": [
        "Noteworthy observations and interpretations:\n",
        "\n",
        "- Deep sleep percentage and sleep efficiency have a strong positive correlation, hinting that higher deep sleep percentage indicates higher sleep efficiency.\n",
        "- Deep sleep percentage and light sleep percentage have a very strong negative correlation, as they are essentially mutually exclusive.\n",
        "- Awakenings and sleep efficiency have a moderate negative correlation, possibly due to sleep efficiency decreasing as a result of more awakenings."
      ],
      "metadata": {
        "id": "jaHDIWI9t5N5"
      }
    },
    {
      "cell_type": "code",
      "source": [
        "plt.figure(figsize=(12,8))\n",
        "\n",
        "sns.scatterplot(data = df, x = 'Deep sleep percentage', y = 'Sleep efficiency')"
      ],
      "metadata": {
        "colab": {
          "base_uri": "https://localhost:8080/",
          "height": 714
        },
        "id": "88vm2tNx-rmT",
        "outputId": "c7a730ed-8f92-4136-f0d2-77755fc9792c"
      },
      "execution_count": 28,
      "outputs": [
        {
          "output_type": "execute_result",
          "data": {
            "text/plain": [
              "<Axes: xlabel='Deep sleep percentage', ylabel='Sleep efficiency'>"
            ]
          },
          "metadata": {},
          "execution_count": 28
        },
        {
          "output_type": "display_data",
          "data": {
            "text/plain": [
              "<Figure size 1200x800 with 1 Axes>"
            ],
            "image/png": "[encoded data removed]"
          },
          "metadata": {}
        }
      ]
    },
    {
      "cell_type": "markdown",
      "source": [
        "Very interesting spread on this scatter plot. There seems to be two big clusters on the bottom left and top right of the graph. Nevertheless, there seems to be strong correlation betwen the two variables."
      ],
      "metadata": {
        "id": "oUnQwqV4MC4p"
      }
    },
    {
      "cell_type": "markdown",
      "source": [
        "###How does smoking affect sleep efficiency?"
      ],
      "metadata": {
        "id": "adCPuyv0-RrZ"
      }
    },
    {
      "cell_type": "code",
      "source": [
        "plt.figure(figsize=(12,8))\n",
        "\n",
        "ax = sns.boxplot(data=df, x='Smoking status', y= 'Sleep efficiency', palette='RdBu')\n",
        "plt.title('Sleep Efficiency by Smoking Status', fontweight = 'bold', fontsize = 16)\n",
        "plt.xlabel('Smoke Status', fontweight='bold', fontsize = 12)\n",
        "plt.ylabel('Sleep Efficiency', fontweight='bold', fontsize = 12)\n",
        "\n",
        "means = df.groupby('Smoking status')['Sleep efficiency'].mean()\n",
        "\n",
        "for i, category in enumerate(df['Smoking status'].unique()):\n",
        "    mean_value = means[category]\n",
        "    x_position = i\n",
        "    ax.text(x_position, mean_value, f'Mean: {mean_value:.2f}',\n",
        "            horizontalalignment='center', verticalalignment='center',\n",
        "            color='black', fontweight='bold')"
      ],
      "metadata": {
        "colab": {
          "base_uri": "https://localhost:8080/",
          "height": 833
        },
        "id": "fppnnxdTtgmM",
        "outputId": "df9ca26b-c40f-48d5-84a8-2e2f8244bc49"
      },
      "execution_count": 88,
      "outputs": [
        {
          "output_type": "stream",
          "name": "stderr",
          "text": [
            "<ipython-input-88-862d6161fe38>:3: FutureWarning: \n",
            "\n",
            "Passing `palette` without assigning `hue` is deprecated and will be removed in v0.14.0. Assign the `x` variable to `hue` and set `legend=False` for the same effect.\n",
            "\n",
            "  ax = sns.boxplot(data=df, x='Smoking status', y= 'Sleep efficiency', palette='RdBu')\n"
          ]
        },
        {
          "output_type": "display_data",
          "data": {
            "text/plain": [
              "<Figure size 1200x800 with 1 Axes>"
            ],
            "image/png": "[encoded data removed]"
          },
          "metadata": {}
        }
      ]
    },
    {
      "cell_type": "markdown",
      "source": [
        "###What does alcohol consumption and caffiene consumption affect on sleep efficiency?"
      ],
      "metadata": {
        "id": "ovIR9BQC-g_f"
      }
    },
    {
      "cell_type": "code",
      "source": [
        "plt.figure(figsize=(12,8))\n",
        "\n",
        "ax = sns.boxplot(data=df, x='Alcohol Consumption (oz)', y= 'Sleep efficiency', palette ='YlOrBr')\n",
        "plt.title('Sleep Efficiency by Alcohol Consumption', fontweight = 'bold', fontsize=18)\n",
        "plt.ylabel('Sleep Efficiency',fontweight='bold', fontsize=12)\n",
        "plt.xlabel('Alcohol Consumption (oz)', fontweight='bold', fontsize=12)\n",
        "\n",
        "means = df.groupby('Alcohol Consumption (oz)')['Sleep efficiency'].mean()\n",
        "\n",
        "for i, category in enumerate(df['Alcohol Consumption (oz)'].unique()):\n",
        "    mean_value = means[category]\n",
        "    x_position = i\n",
        "    ax.text(x_position, mean_value, f'Mean: {mean_value:.2f}',\n",
        "            horizontalalignment='center', verticalalignment='center',\n",
        "            color='black', fontweight='bold')"
      ],
      "metadata": {
        "colab": {
          "base_uri": "https://localhost:8080/",
          "height": 836
        },
        "id": "uQxFLc67-SZy",
        "outputId": "42ea0d6f-157e-4f2c-ac39-6444f830ae3b"
      },
      "execution_count": 83,
      "outputs": [
        {
          "output_type": "stream",
          "name": "stderr",
          "text": [
            "<ipython-input-83-9a759eac54a9>:3: FutureWarning: \n",
            "\n",
            "Passing `palette` without assigning `hue` is deprecated and will be removed in v0.14.0. Assign the `x` variable to `hue` and set `legend=False` for the same effect.\n",
            "\n",
            "  ax = sns.boxplot(data=df, x='Alcohol Consumption (oz)', y= 'Sleep efficiency', palette ='YlOrBr')\n"
          ]
        },
        {
          "output_type": "display_data",
          "data": {
            "text/plain": [
              "<Figure size 1200x800 with 1 Axes>"
            ],
            "image/png": "[encoded data removed]"
          },
          "metadata": {}
        }
      ]
    },
    {
      "cell_type": "markdown",
      "source": [
        "###How is sleep efficiency different between younger (0-40) and older (40+) individuals?"
      ],
      "metadata": {
        "id": "lirKrJUFiEI7"
      }
    },
    {
      "cell_type": "code",
      "source": [
        "df_old = df[df['Age'] > 40]\n",
        "df_young = df[df['Age'] < 40]"
      ],
      "metadata": {
        "id": "eJxQuccUM2Et"
      },
      "execution_count": 31,
      "outputs": []
    },
    {
      "cell_type": "code",
      "source": [
        "df['Age Group'] = df['Age'].apply(lambda x: '0-40' if x < 40 else '40+')\n",
        "\n",
        "plt.figure(figsize=(10, 6))\n",
        "sns.boxplot(x='Age Group', y='Sleep efficiency', data=df, palette='Set2')\n",
        "\n",
        "# Title and labels\n",
        "plt.title('Sleep Efficiency by Age Group')\n",
        "plt.xlabel('Age Group')\n",
        "plt.ylabel('Sleep Efficiency')\n",
        "\n",
        "# Show the plot\n",
        "plt.show()"
      ],
      "metadata": {
        "colab": {
          "base_uri": "https://localhost:8080/",
          "height": 673
        },
        "id": "CdjCgi3YNuFz",
        "outputId": "ed379b43-29ff-486f-9540-7cfad10daf99"
      },
      "execution_count": 32,
      "outputs": [
        {
          "output_type": "stream",
          "name": "stderr",
          "text": [
            "<ipython-input-32-390524dbd941>:4: FutureWarning: \n",
            "\n",
            "Passing `palette` without assigning `hue` is deprecated and will be removed in v0.14.0. Assign the `x` variable to `hue` and set `legend=False` for the same effect.\n",
            "\n",
            "  sns.boxplot(x='Age Group', y='Sleep efficiency', data=df, palette='Set2')\n"
          ]
        },
        {
          "output_type": "display_data",
          "data": {
            "text/plain": [
              "<Figure size 1000x600 with 1 Axes>"
            ],
            "image/png": "[encoded data removed]"
          },
          "metadata": {}
        }
      ]
    },
    {
      "cell_type": "code",
      "source": [
        "plt.figure(figsize=(12,8))\n",
        "\n",
        "sns.boxplot(data=df, x='Exercise frequency', y= 'Awakenings', palette ='GnBu')\n",
        "plt.title('Exercise Frequency by Awakenings')\n",
        "plt.ylabel('Awakenings')"
      ],
      "metadata": {
        "colab": {
          "base_uri": "https://localhost:8080/",
          "height": 845
        },
        "id": "kNFqkhzJXFoM",
        "outputId": "7501a249-f3c9-446c-f9fd-bd160f49f824"
      },
      "execution_count": 33,
      "outputs": [
        {
          "output_type": "stream",
          "name": "stderr",
          "text": [
            "<ipython-input-33-21b840cd0ab6>:3: FutureWarning: \n",
            "\n",
            "Passing `palette` without assigning `hue` is deprecated and will be removed in v0.14.0. Assign the `x` variable to `hue` and set `legend=False` for the same effect.\n",
            "\n",
            "  sns.boxplot(data=df, x='Exercise frequency', y= 'Awakenings', palette ='GnBu')\n"
          ]
        },
        {
          "output_type": "execute_result",
          "data": {
            "text/plain": [
              "Text(0, 0.5, 'Awakenings')"
            ]
          },
          "metadata": {},
          "execution_count": 33
        },
        {
          "output_type": "display_data",
          "data": {
            "text/plain": [
              "<Figure size 1200x800 with 1 Axes>"
            ],
            "image/png": "[encoded data removed]"
          },
          "metadata": {}
        }
      ]
    },
    {
      "cell_type": "markdown",
      "source": [
        "Graph generally shows the more frequently you exercise, the less awakenings that are likely to occur."
      ],
      "metadata": {
        "id": "YJnTCP6ZXtt8"
      }
    },
    {
      "cell_type": "markdown",
      "source": [
        "###How does bedtime affect sleep efficiency?"
      ],
      "metadata": {
        "id": "pvA38sAEpftV"
      }
    },
    {
      "cell_type": "code",
      "source": [
        "#I want to split it into two groups, those who sleep before midnight and those who sleep after midnight\n",
        "\n",
        "#convert column to datetime\n",
        "df['Bedtime'] = pd.to_datetime(df['Bedtime'])\n",
        "\n",
        "#extract the time part from the 'Bedtime' column\n",
        "df['Bedtime_time'] = df['Bedtime'].dt.time\n",
        "\n",
        "#condition to find people who sleep before midnight (12:00:00 to 23:59:59)\n",
        "before_midnight = df[(df['Bedtime_time'] >= pd.to_datetime('12:00:00').time()) &\n",
        "                     (df['Bedtime_time'] <= pd.to_datetime('23:59:59').time())]\n",
        "\n",
        "#condition to find people who sleep after midnight (00:00:00 to 11:59:59)\n",
        "after_midnight = df[(df['Bedtime_time'] >= pd.to_datetime('00:00:00').time()) &\n",
        "                    (df['Bedtime_time'] < pd.to_datetime('12:00:00').time())]\n",
        "\n",
        "#display the results\n",
        "before_midnight"
      ],
      "metadata": {
        "colab": {
          "base_uri": "https://localhost:8080/",
          "height": 826
        },
        "collapsed": true,
        "id": "GuhEMBvJpjoP",
        "outputId": "5af125b8-e5f3-468c-a80c-d5d5217e5852"
      },
      "execution_count": 34,
      "outputs": [
        {
          "output_type": "execute_result",
          "data": {
            "text/plain": [
              "      ID  Age  Gender             Bedtime          Wakeup time  \\\n",
              "2      3   40  Female 2021-05-25 21:30:00  2021-05-25 05:30:00   \n",
              "5      6   36  Female 2021-07-01 21:00:00  2021-07-01 04:30:00   \n",
              "6      7   27  Female 2021-07-21 21:00:00  2021-07-21 03:00:00   \n",
              "11    12   55    Male 2021-03-10 22:30:00  2021-03-10 06:00:00   \n",
              "15    16   32  Female 2021-12-06 22:00:00  2021-12-06 05:30:00   \n",
              "..   ...  ...     ...                 ...                  ...   \n",
              "445  446   30  Female 2021-11-16 23:00:00  2021-11-16 06:30:00   \n",
              "447  448   27  Female 2021-11-13 22:00:00  2021-11-13 05:30:00   \n",
              "448  449   52    Male 2021-03-31 21:00:00  2021-03-31 03:00:00   \n",
              "449  450   40  Female 2021-09-07 23:00:00  2021-09-07 07:30:00   \n",
              "450  451   45    Male 2021-07-29 21:00:00  2021-07-29 04:00:00   \n",
              "\n",
              "     Sleep Duration  Sleep efficiency  REM sleep percentage  \\\n",
              "2               8.0              0.89                    20   \n",
              "5               7.5              0.90                    23   \n",
              "6               6.0              0.54                    28   \n",
              "11              7.5              0.93                    18   \n",
              "15              7.5              0.92                    25   \n",
              "..              ...               ...                   ...   \n",
              "445             7.5              0.53                    28   \n",
              "447             7.5              0.91                    22   \n",
              "448             6.0              0.74                    28   \n",
              "449             8.5              0.55                    20   \n",
              "450             7.0              0.76                    18   \n",
              "\n",
              "     Deep sleep percentage  Light sleep percentage  Awakenings  \\\n",
              "2                       70                      10           1   \n",
              "5                       60                      17           0   \n",
              "6                       25                      47           2   \n",
              "11                      60                      22           0   \n",
              "15                      55                      20           0   \n",
              "..                     ...                     ...         ...   \n",
              "445                     20                      52           4   \n",
              "447                     57                      21           0   \n",
              "448                     57                      15           4   \n",
              "449                     32                      48           1   \n",
              "450                     72                      10           3   \n",
              "\n",
              "     Caffeine Consumption (mg)  Alcohol Consumption (oz) Smoking status  \\\n",
              "2                            0                         0             No   \n",
              "5                           25                         0             No   \n",
              "6                           50                         0            Yes   \n",
              "11                           0                         0             No   \n",
              "15                          50                         2             No   \n",
              "..                         ...                       ...            ...   \n",
              "445                         50                         2            Yes   \n",
              "447                          0                         0             No   \n",
              "448                         25                         0             No   \n",
              "449                         25                         3            Yes   \n",
              "450                          0                         0             No   \n",
              "\n",
              "     Exercise frequency Age Group Bedtime_time  \n",
              "2                     3       40+     21:30:00  \n",
              "5                     1      0-40     21:00:00  \n",
              "6                     1      0-40     21:00:00  \n",
              "11                    3       40+     22:30:00  \n",
              "15                    5      0-40     22:00:00  \n",
              "..                  ...       ...          ...  \n",
              "445                   1      0-40     23:00:00  \n",
              "447                   5      0-40     22:00:00  \n",
              "448                   3       40+     21:00:00  \n",
              "449                   0       40+     23:00:00  \n",
              "450                   3       40+     21:00:00  \n",
              "\n",
              "[211 rows x 17 columns]"
            ],
            "text/html": [
              "\n",
              "  <div id=\"df-0e9f687d-54e6-4a98-bbed-44eea1146057\" class=\"colab-df-container\">\n",
              "    <div>\n",
              "<style scoped>\n",
              "    .dataframe tbody tr th:only-of-type {\n",
              "        vertical-align: middle;\n",
              "    }\n",
              "\n",
              "    .dataframe tbody tr th {\n",
              "        vertical-align: top;\n",
              "    }\n",
              "\n",
              "    .dataframe thead th {\n",
              "        text-align: right;\n",
              "    }\n",
              "</style>\n",
              "<table border=\"1\" class=\"dataframe\">\n",
              "  <thead>\n",
              "    <tr style=\"text-align: right;\">\n",
              "      <th></th>\n",
              "      <th>ID</th>\n",
              "      <th>Age</th>\n",
              "      <th>Gender</th>\n",
              "      <th>Bedtime</th>\n",
              "      <th>Wakeup time</th>\n",
              "      <th>Sleep Duration</th>\n",
              "      <th>Sleep efficiency</th>\n",
              "      <th>REM sleep percentage</th>\n",
              "      <th>Deep sleep percentage</th>\n",
              "      <th>Light sleep percentage</th>\n",
              "      <th>Awakenings</th>\n",
              "      <th>Caffeine Consumption (mg)</th>\n",
              "      <th>Alcohol Consumption (oz)</th>\n",
              "      <th>Smoking status</th>\n",
              "      <th>Exercise frequency</th>\n",
              "      <th>Age Group</th>\n",
              "      <th>Bedtime_time</th>\n",
              "    </tr>\n",
              "  </thead>\n",
              "  <tbody>\n",
              "    <tr>\n",
              "      <th>2</th>\n",
              "      <td>3</td>\n",
              "      <td>40</td>\n",
              "      <td>Female</td>\n",
              "      <td>2021-05-25 21:30:00</td>\n",
              "      <td>2021-05-25 05:30:00</td>\n",
              "      <td>8.0</td>\n",
              "      <td>0.89</td>\n",
              "      <td>20</td>\n",
              "      <td>70</td>\n",
              "      <td>10</td>\n",
              "      <td>1</td>\n",
              "      <td>0</td>\n",
              "      <td>0</td>\n",
              "      <td>No</td>\n",
              "      <td>3</td>\n",
              "      <td>40+</td>\n",
              "      <td>21:30:00</td>\n",
              "    </tr>\n",
              "    <tr>\n",
              "      <th>5</th>\n",
              "      <td>6</td>\n",
              "      <td>36</td>\n",
              "      <td>Female</td>\n",
              "      <td>2021-07-01 21:00:00</td>\n",
              "      <td>2021-07-01 04:30:00</td>\n",
              "      <td>7.5</td>\n",
              "      <td>0.90</td>\n",
              "      <td>23</td>\n",
              "      <td>60</td>\n",
              "      <td>17</td>\n",
              "      <td>0</td>\n",
              "      <td>25</td>\n",
              "      <td>0</td>\n",
              "      <td>No</td>\n",
              "      <td>1</td>\n",
              "      <td>0-40</td>\n",
              "      <td>21:00:00</td>\n",
              "    </tr>\n",
              "    <tr>\n",
              "      <th>6</th>\n",
              "      <td>7</td>\n",
              "      <td>27</td>\n",
              "      <td>Female</td>\n",
              "      <td>2021-07-21 21:00:00</td>\n",
              "      <td>2021-07-21 03:00:00</td>\n",
              "      <td>6.0</td>\n",
              "      <td>0.54</td>\n",
              "      <td>28</td>\n",
              "      <td>25</td>\n",
              "      <td>47</td>\n",
              "      <td>2</td>\n",
              "      <td>50</td>\n",
              "      <td>0</td>\n",
              "      <td>Yes</td>\n",
              "      <td>1</td>\n",
              "      <td>0-40</td>\n",
              "      <td>21:00:00</td>\n",
              "    </tr>\n",
              "    <tr>\n",
              "      <th>11</th>\n",
              "      <td>12</td>\n",
              "      <td>55</td>\n",
              "      <td>Male</td>\n",
              "      <td>2021-03-10 22:30:00</td>\n",
              "      <td>2021-03-10 06:00:00</td>\n",
              "      <td>7.5</td>\n",
              "      <td>0.93</td>\n",
              "      <td>18</td>\n",
              "      <td>60</td>\n",
              "      <td>22</td>\n",
              "      <td>0</td>\n",
              "      <td>0</td>\n",
              "      <td>0</td>\n",
              "      <td>No</td>\n",
              "      <td>3</td>\n",
              "      <td>40+</td>\n",
              "      <td>22:30:00</td>\n",
              "    </tr>\n",
              "    <tr>\n",
              "      <th>15</th>\n",
              "      <td>16</td>\n",
              "      <td>32</td>\n",
              "      <td>Female</td>\n",
              "      <td>2021-12-06 22:00:00</td>\n",
              "      <td>2021-12-06 05:30:00</td>\n",
              "      <td>7.5</td>\n",
              "      <td>0.92</td>\n",
              "      <td>25</td>\n",
              "      <td>55</td>\n",
              "      <td>20</td>\n",
              "      <td>0</td>\n",
              "      <td>50</td>\n",
              "      <td>2</td>\n",
              "      <td>No</td>\n",
              "      <td>5</td>\n",
              "      <td>0-40</td>\n",
              "      <td>22:00:00</td>\n",
              "    </tr>\n",
              "    <tr>\n",
              "      <th>...</th>\n",
              "      <td>...</td>\n",
              "      <td>...</td>\n",
              "      <td>...</td>\n",
              "      <td>...</td>\n",
              "      <td>...</td>\n",
              "      <td>...</td>\n",
              "      <td>...</td>\n",
              "      <td>...</td>\n",
              "      <td>...</td>\n",
              "      <td>...</td>\n",
              "      <td>...</td>\n",
              "      <td>...</td>\n",
              "      <td>...</td>\n",
              "      <td>...</td>\n",
              "      <td>...</td>\n",
              "      <td>...</td>\n",
              "      <td>...</td>\n",
              "    </tr>\n",
              "    <tr>\n",
              "      <th>445</th>\n",
              "      <td>446</td>\n",
              "      <td>30</td>\n",
              "      <td>Female</td>\n",
              "      <td>2021-11-16 23:00:00</td>\n",
              "      <td>2021-11-16 06:30:00</td>\n",
              "      <td>7.5</td>\n",
              "      <td>0.53</td>\n",
              "      <td>28</td>\n",
              "      <td>20</td>\n",
              "      <td>52</td>\n",
              "      <td>4</td>\n",
              "      <td>50</td>\n",
              "      <td>2</td>\n",
              "      <td>Yes</td>\n",
              "      <td>1</td>\n",
              "      <td>0-40</td>\n",
              "      <td>23:00:00</td>\n",
              "    </tr>\n",
              "    <tr>\n",
              "      <th>447</th>\n",
              "      <td>448</td>\n",
              "      <td>27</td>\n",
              "      <td>Female</td>\n",
              "      <td>2021-11-13 22:00:00</td>\n",
              "      <td>2021-11-13 05:30:00</td>\n",
              "      <td>7.5</td>\n",
              "      <td>0.91</td>\n",
              "      <td>22</td>\n",
              "      <td>57</td>\n",
              "      <td>21</td>\n",
              "      <td>0</td>\n",
              "      <td>0</td>\n",
              "      <td>0</td>\n",
              "      <td>No</td>\n",
              "      <td>5</td>\n",
              "      <td>0-40</td>\n",
              "      <td>22:00:00</td>\n",
              "    </tr>\n",
              "    <tr>\n",
              "      <th>448</th>\n",
              "      <td>449</td>\n",
              "      <td>52</td>\n",
              "      <td>Male</td>\n",
              "      <td>2021-03-31 21:00:00</td>\n",
              "      <td>2021-03-31 03:00:00</td>\n",
              "      <td>6.0</td>\n",
              "      <td>0.74</td>\n",
              "      <td>28</td>\n",
              "      <td>57</td>\n",
              "      <td>15</td>\n",
              "      <td>4</td>\n",
              "      <td>25</td>\n",
              "      <td>0</td>\n",
              "      <td>No</td>\n",
              "      <td>3</td>\n",
              "      <td>40+</td>\n",
              "      <td>21:00:00</td>\n",
              "    </tr>\n",
              "    <tr>\n",
              "      <th>449</th>\n",
              "      <td>450</td>\n",
              "      <td>40</td>\n",
              "      <td>Female</td>\n",
              "      <td>2021-09-07 23:00:00</td>\n",
              "      <td>2021-09-07 07:30:00</td>\n",
              "      <td>8.5</td>\n",
              "      <td>0.55</td>\n",
              "      <td>20</td>\n",
              "      <td>32</td>\n",
              "      <td>48</td>\n",
              "      <td>1</td>\n",
              "      <td>25</td>\n",
              "      <td>3</td>\n",
              "      <td>Yes</td>\n",
              "      <td>0</td>\n",
              "      <td>40+</td>\n",
              "      <td>23:00:00</td>\n",
              "    </tr>\n",
              "    <tr>\n",
              "      <th>450</th>\n",
              "      <td>451</td>\n",
              "      <td>45</td>\n",
              "      <td>Male</td>\n",
              "      <td>2021-07-29 21:00:00</td>\n",
              "      <td>2021-07-29 04:00:00</td>\n",
              "      <td>7.0</td>\n",
              "      <td>0.76</td>\n",
              "      <td>18</td>\n",
              "      <td>72</td>\n",
              "      <td>10</td>\n",
              "      <td>3</td>\n",
              "      <td>0</td>\n",
              "      <td>0</td>\n",
              "      <td>No</td>\n",
              "      <td>3</td>\n",
              "      <td>40+</td>\n",
              "      <td>21:00:00</td>\n",
              "    </tr>\n",
              "  </tbody>\n",
              "</table>\n",
              "<p>211 rows × 17 columns</p>\n",
              "</div>\n",
              "    <div class=\"colab-df-buttons\">\n",
              "\n",
              "  <div class=\"colab-df-container\">\n",
              "    <button class=\"colab-df-convert\" onclick=\"convertToInteractive('df-0e9f687d-54e6-4a98-bbed-44eea1146057')\"\n",
              "            title=\"Convert this dataframe to an interactive table.\"\n",
              "            style=\"display:none;\">\n",
              "\n",
              "  <svg xmlns=\"http://www.w3.org/2000/svg\" height=\"24px\" viewBox=\"0 -960 960 960\">\n",
              "    <path d=\"M120-120v-720h720v720H120Zm60-500h600v-160H180v160Zm220 220h160v-160H400v160Zm0 220h160v-160H400v160ZM180-400h160v-160H180v160Zm440 0h160v-160H620v160ZM180-180h160v-160H180v160Zm440 0h160v-160H620v160Z\"/>\n",
              "  </svg>\n",
              "    </button>\n",
              "\n",
              "  <style>\n",
              "    .colab-df-container {\n",
              "      display:flex;\n",
              "      gap: 12px;\n",
              "    }\n",
              "\n",
              "    .colab-df-convert {\n",
              "      background-color: #E8F0FE;\n",
              "      border: none;\n",
              "      border-radius: 50%;\n",
              "      cursor: pointer;\n",
              "      display: none;\n",
              "      fill: #1967D2;\n",
              "      height: 32px;\n",
              "      padding: 0 0 0 0;\n",
              "      width: 32px;\n",
              "    }\n",
              "\n",
              "    .colab-df-convert:hover {\n",
              "      background-color: #E2EBFA;\n",
              "      box-shadow: 0px 1px 2px rgba(60, 64, 67, 0.3), 0px 1px 3px 1px rgba(60, 64, 67, 0.15);\n",
              "      fill: #174EA6;\n",
              "    }\n",
              "\n",
              "    .colab-df-buttons div {\n",
              "      margin-bottom: 4px;\n",
              "    }\n",
              "\n",
              "    [theme=dark] .colab-df-convert {\n",
              "      background-color: #3B4455;\n",
              "      fill: #D2E3FC;\n",
              "    }\n",
              "\n",
              "    [theme=dark] .colab-df-convert:hover {\n",
              "      background-color: #434B5C;\n",
              "      box-shadow: 0px 1px 3px 1px rgba(0, 0, 0, 0.15);\n",
              "      filter: drop-shadow(0px 1px 2px rgba(0, 0, 0, 0.3));\n",
              "      fill: #FFFFFF;\n",
              "    }\n",
              "  </style>\n",
              "\n",
              "    <script>\n",
              "      const buttonEl =\n",
              "        document.querySelector('#df-0e9f687d-54e6-4a98-bbed-44eea1146057 button.colab-df-convert');\n",
              "      buttonEl.style.display =\n",
              "        google.colab.kernel.accessAllowed ? 'block' : 'none';\n",
              "\n",
              "      async function convertToInteractive(key) {\n",
              "        const element = document.querySelector('#df-0e9f687d-54e6-4a98-bbed-44eea1146057');\n",
              "        const dataTable =\n",
              "          await google.colab.kernel.invokeFunction('convertToInteractive',\n",
              "                                                    [key], {});\n",
              "        if (!dataTable) return;\n",
              "\n",
              "        const docLinkHtml = 'Like what you see? Visit the ' +\n",
              "          '<a target=\"_blank\" href=https://colab.research.google.com/notebooks/data_table.ipynb>data table notebook</a>'\n",
              "          + ' to learn more about interactive tables.';\n",
              "        element.innerHTML = '';\n",
              "        dataTable['output_type'] = 'display_data';\n",
              "        await google.colab.output.renderOutput(dataTable, element);\n",
              "        const docLink = document.createElement('div');\n",
              "        docLink.innerHTML = docLinkHtml;\n",
              "        element.appendChild(docLink);\n",
              "      }\n",
              "    </script>\n",
              "  </div>\n",
              "\n",
              "\n",
              "<div id=\"df-77d00e53-1581-4779-b112-f47412cde136\">\n",
              "  <button class=\"colab-df-quickchart\" onclick=\"quickchart('df-77d00e53-1581-4779-b112-f47412cde136')\"\n",
              "            title=\"Suggest charts\"\n",
              "            style=\"display:none;\">\n",
              "\n",
              "<svg xmlns=\"http://www.w3.org/2000/svg\" height=\"24px\"viewBox=\"0 0 24 24\"\n",
              "     width=\"24px\">\n",
              "    <g>\n",
              "        <path d=\"M19 3H5c-1.1 0-2 .9-2 2v14c0 1.1.9 2 2 2h14c1.1 0 2-.9 2-2V5c0-1.1-.9-2-2-2zM9 17H7v-7h2v7zm4 0h-2V7h2v10zm4 0h-2v-4h2v4z\"/>\n",
              "    </g>\n",
              "</svg>\n",
              "  </button>\n",
              "\n",
              "<style>\n",
              "  .colab-df-quickchart {\n",
              "      --bg-color: #E8F0FE;\n",
              "      --fill-color: #1967D2;\n",
              "      --hover-bg-color: #E2EBFA;\n",
              "      --hover-fill-color: #174EA6;\n",
              "      --disabled-fill-color: #AAA;\n",
              "      --disabled-bg-color: #DDD;\n",
              "  }\n",
              "\n",
              "  [theme=dark] .colab-df-quickchart {\n",
              "      --bg-color: #3B4455;\n",
              "      --fill-color: #D2E3FC;\n",
              "      --hover-bg-color: #434B5C;\n",
              "      --hover-fill-color: #FFFFFF;\n",
              "      --disabled-bg-color: #3B4455;\n",
              "      --disabled-fill-color: #666;\n",
              "  }\n",
              "\n",
              "  .colab-df-quickchart {\n",
              "    background-color: var(--bg-color);\n",
              "    border: none;\n",
              "    border-radius: 50%;\n",
              "    cursor: pointer;\n",
              "    display: none;\n",
              "    fill: var(--fill-color);\n",
              "    height: 32px;\n",
              "    padding: 0;\n",
              "    width: 32px;\n",
              "  }\n",
              "\n",
              "  .colab-df-quickchart:hover {\n",
              "    background-color: var(--hover-bg-color);\n",
              "    box-shadow: 0 1px 2px rgba(60, 64, 67, 0.3), 0 1px 3px 1px rgba(60, 64, 67, 0.15);\n",
              "    fill: var(--button-hover-fill-color);\n",
              "  }\n",
              "\n",
              "  .colab-df-quickchart-complete:disabled,\n",
              "  .colab-df-quickchart-complete:disabled:hover {\n",
              "    background-color: var(--disabled-bg-color);\n",
              "    fill: var(--disabled-fill-color);\n",
              "    box-shadow: none;\n",
              "  }\n",
              "\n",
              "  .colab-df-spinner {\n",
              "    border: 2px solid var(--fill-color);\n",
              "    border-color: transparent;\n",
              "    border-bottom-color: var(--fill-color);\n",
              "    animation:\n",
              "      spin 1s steps(1) infinite;\n",
              "  }\n",
              "\n",
              "  @keyframes spin {\n",
              "    0% {\n",
              "      border-color: transparent;\n",
              "      border-bottom-color: var(--fill-color);\n",
              "      border-left-color: var(--fill-color);\n",
              "    }\n",
              "    20% {\n",
              "      border-color: transparent;\n",
              "      border-left-color: var(--fill-color);\n",
              "      border-top-color: var(--fill-color);\n",
              "    }\n",
              "    30% {\n",
              "      border-color: transparent;\n",
              "      border-left-color: var(--fill-color);\n",
              "      border-top-color: var(--fill-color);\n",
              "      border-right-color: var(--fill-color);\n",
              "    }\n",
              "    40% {\n",
              "      border-color: transparent;\n",
              "      border-right-color: var(--fill-color);\n",
              "      border-top-color: var(--fill-color);\n",
              "    }\n",
              "    60% {\n",
              "      border-color: transparent;\n",
              "      border-right-color: var(--fill-color);\n",
              "    }\n",
              "    80% {\n",
              "      border-color: transparent;\n",
              "      border-right-color: var(--fill-color);\n",
              "      border-bottom-color: var(--fill-color);\n",
              "    }\n",
              "    90% {\n",
              "      border-color: transparent;\n",
              "      border-bottom-color: var(--fill-color);\n",
              "    }\n",
              "  }\n",
              "</style>\n",
              "\n",
              "  <script>\n",
              "    async function quickchart(key) {\n",
              "      const quickchartButtonEl =\n",
              "        document.querySelector('#' + key + ' button');\n",
              "      quickchartButtonEl.disabled = true;  // To prevent multiple clicks.\n",
              "      quickchartButtonEl.classList.add('colab-df-spinner');\n",
              "      try {\n",
              "        const charts = await google.colab.kernel.invokeFunction(\n",
              "            'suggestCharts', [key], {});\n",
              "      } catch (error) {\n",
              "        console.error('Error during call to suggestCharts:', error);\n",
              "      }\n",
              "      quickchartButtonEl.classList.remove('colab-df-spinner');\n",
              "      quickchartButtonEl.classList.add('colab-df-quickchart-complete');\n",
              "    }\n",
              "    (() => {\n",
              "      let quickchartButtonEl =\n",
              "        document.querySelector('#df-77d00e53-1581-4779-b112-f47412cde136 button');\n",
              "      quickchartButtonEl.style.display =\n",
              "        google.colab.kernel.accessAllowed ? 'block' : 'none';\n",
              "    })();\n",
              "  </script>\n",
              "</div>\n",
              "\n",
              "  <div id=\"id_cf318993-ce70-4502-a494-494937cd2c26\">\n",
              "    <style>\n",
              "      .colab-df-generate {\n",
              "        background-color: #E8F0FE;\n",
              "        border: none;\n",
              "        border-radius: 50%;\n",
              "        cursor: pointer;\n",
              "        display: none;\n",
              "        fill: #1967D2;\n",
              "        height: 32px;\n",
              "        padding: 0 0 0 0;\n",
              "        width: 32px;\n",
              "      }\n",
              "\n",
              "      .colab-df-generate:hover {\n",
              "        background-color: #E2EBFA;\n",
              "        box-shadow: 0px 1px 2px rgba(60, 64, 67, 0.3), 0px 1px 3px 1px rgba(60, 64, 67, 0.15);\n",
              "        fill: #174EA6;\n",
              "      }\n",
              "\n",
              "      [theme=dark] .colab-df-generate {\n",
              "        background-color: #3B4455;\n",
              "        fill: #D2E3FC;\n",
              "      }\n",
              "\n",
              "      [theme=dark] .colab-df-generate:hover {\n",
              "        background-color: #434B5C;\n",
              "        box-shadow: 0px 1px 3px 1px rgba(0, 0, 0, 0.15);\n",
              "        filter: drop-shadow(0px 1px 2px rgba(0, 0, 0, 0.3));\n",
              "        fill: #FFFFFF;\n",
              "      }\n",
              "    </style>\n",
              "    <button class=\"colab-df-generate\" onclick=\"generateWithVariable('before_midnight')\"\n",
              "            title=\"Generate code using this dataframe.\"\n",
              "            style=\"display:none;\">\n",
              "\n",
              "  <svg xmlns=\"http://www.w3.org/2000/svg\" height=\"24px\"viewBox=\"0 0 24 24\"\n",
              "       width=\"24px\">\n",
              "    <path d=\"M7,19H8.4L18.45,9,17,7.55,7,17.6ZM5,21V16.75L18.45,3.32a2,2,0,0,1,2.83,0l1.4,1.43a1.91,1.91,0,0,1,.58,1.4,1.91,1.91,0,0,1-.58,1.4L9.25,21ZM18.45,9,17,7.55Zm-12,3A5.31,5.31,0,0,0,4.9,8.1,5.31,5.31,0,0,0,1,6.5,5.31,5.31,0,0,0,4.9,4.9,5.31,5.31,0,0,0,6.5,1,5.31,5.31,0,0,0,8.1,4.9,5.31,5.31,0,0,0,12,6.5,5.46,5.46,0,0,0,6.5,12Z\"/>\n",
              "  </svg>\n",
              "    </button>\n",
              "    <script>\n",
              "      (() => {\n",
              "      const buttonEl =\n",
              "        document.querySelector('#id_cf318993-ce70-4502-a494-494937cd2c26 button.colab-df-generate');\n",
              "      buttonEl.style.display =\n",
              "        google.colab.kernel.accessAllowed ? 'block' : 'none';\n",
              "\n",
              "      buttonEl.onclick = () => {\n",
              "        google.colab.notebook.generateWithVariable('before_midnight');\n",
              "      }\n",
              "      })();\n",
              "    </script>\n",
              "  </div>\n",
              "\n",
              "    </div>\n",
              "  </div>\n"
            ],
            "application/vnd.google.colaboratory.intrinsic+json": {
              "type": "dataframe",
              "variable_name": "before_midnight",
              "repr_error": "0"
            }
          },
          "metadata": {},
          "execution_count": 34
        }
      ]
    },
    {
      "cell_type": "code",
      "source": [
        "#now let's make it into a boxplot\n",
        "\n",
        "df['Bedtime Category'] = pd.cut(df['Bedtime_time'],\n",
        "                                bins=[pd.to_datetime('00:00:00').time(),\n",
        "                                      pd.to_datetime('11:59:59').time(),\n",
        "                                      pd.to_datetime('23:59:59').time()],\n",
        "                                labels=['After Midnight', 'Before Midnight'],\n",
        "                                right=False)\n",
        "\n",
        "plt.figure(figsize=(10, 6))\n",
        "ax = sns.boxplot(x='Bedtime Category', y='Sleep efficiency', data=df,\n",
        "                 palette='Purples', order=['Before Midnight', 'After Midnight'])\n",
        "\n",
        "plt.title('Sleep Efficiency by Bedtime Category', fontweight='bold', fontsize=16)\n",
        "plt.xlabel('Bedtime Category', fontsize=12, fontweight='bold')\n",
        "plt.ylabel('Sleep Efficiency', fontsize=12, fontweight='bold')\n",
        "plt.xticks(fontweight='bold')\n",
        "\n",
        "means = df.groupby('Bedtime Category')['Sleep efficiency'].mean()\n",
        "\n",
        "for i, category in enumerate(['Before Midnight', 'After Midnight']):\n",
        "    mean_value = means[category]\n",
        "    x_position = i\n",
        "    ax.text(x_position, mean_value, f'Mean: {mean_value:.2f}', horizontalalignment='center', verticalalignment='center', color='black', fontweight='bold')"
      ],
      "metadata": {
        "colab": {
          "base_uri": "https://localhost:8080/",
          "height": 715
        },
        "id": "NQdRggHBqIyC",
        "outputId": "73373f5b-7fca-4ec3-8a78-d9f177055b67"
      },
      "execution_count": 63,
      "outputs": [
        {
          "output_type": "stream",
          "name": "stderr",
          "text": [
            "<ipython-input-63-8c378d1b36ee>:11: FutureWarning: \n",
            "\n",
            "Passing `palette` without assigning `hue` is deprecated and will be removed in v0.14.0. Assign the `x` variable to `hue` and set `legend=False` for the same effect.\n",
            "\n",
            "  ax = sns.boxplot(x='Bedtime Category', y='Sleep efficiency', data=df,\n",
            "<ipython-input-63-8c378d1b36ee>:19: FutureWarning: The default of observed=False is deprecated and will be changed to True in a future version of pandas. Pass observed=False to retain current behavior or observed=True to adopt the future default and silence this warning.\n",
            "  means = df.groupby('Bedtime Category')['Sleep efficiency'].mean()\n"
          ]
        },
        {
          "output_type": "display_data",
          "data": {
            "text/plain": [
              "<Figure size 1000x600 with 1 Axes>"
            ],
            "image/png": "[encoded data removed]"
          },
          "metadata": {}
        }
      ]
    },
    {
      "cell_type": "code",
      "source": [
        "len(after_midnight)"
      ],
      "metadata": {
        "colab": {
          "base_uri": "https://localhost:8080/"
        },
        "id": "CYTdX4kUEfJQ",
        "outputId": "df3b660c-d31f-43f1-d6ca-7072d76c2fd9"
      },
      "execution_count": 91,
      "outputs": [
        {
          "output_type": "execute_result",
          "data": {
            "text/plain": [
              "241"
            ]
          },
          "metadata": {},
          "execution_count": 91
        }
      ]
    },
    {
      "cell_type": "markdown",
      "source": [
        "#Inferential Analyses"
      ],
      "metadata": {
        "id": "6Yt_wkExYVIh"
      }
    },
    {
      "cell_type": "markdown",
      "source": [
        "##Do individuals who sleep before midnight have higher sleep efficiency compared to those who sleep after midnight?"
      ],
      "metadata": {
        "id": "lUlwq88hzQ90"
      }
    },
    {
      "cell_type": "markdown",
      "source": [
        "Before we can do any sort of parametric or non-parametric statistical hypothesis tests, it is important to identify if the distributions are normal."
      ],
      "metadata": {
        "id": "mvHs1FSE1SlR"
      }
    },
    {
      "cell_type": "code",
      "source": [
        "before_midnight"
      ],
      "metadata": {
        "colab": {
          "base_uri": "https://localhost:8080/",
          "height": 458
        },
        "id": "UxvnSr5Q8TRK",
        "outputId": "c51c95d7-8a94-4a17-b516-6cc6a1030b40"
      },
      "execution_count": 54,
      "outputs": [
        {
          "output_type": "execute_result",
          "data": {
            "text/plain": [
              "2      0.89\n",
              "5      0.90\n",
              "6      0.54\n",
              "11     0.93\n",
              "15     0.92\n",
              "       ... \n",
              "445    0.53\n",
              "447    0.91\n",
              "448    0.74\n",
              "449    0.55\n",
              "450    0.76\n",
              "Name: Sleep efficiency, Length: 211, dtype: float64"
            ],
            "text/html": [
              "<div>\n",
              "<style scoped>\n",
              "    .dataframe tbody tr th:only-of-type {\n",
              "        vertical-align: middle;\n",
              "    }\n",
              "\n",
              "    .dataframe tbody tr th {\n",
              "        vertical-align: top;\n",
              "    }\n",
              "\n",
              "    .dataframe thead th {\n",
              "        text-align: right;\n",
              "    }\n",
              "</style>\n",
              "<table border=\"1\" class=\"dataframe\">\n",
              "  <thead>\n",
              "    <tr style=\"text-align: right;\">\n",
              "      <th></th>\n",
              "      <th>Sleep efficiency</th>\n",
              "    </tr>\n",
              "  </thead>\n",
              "  <tbody>\n",
              "    <tr>\n",
              "      <th>2</th>\n",
              "      <td>0.89</td>\n",
              "    </tr>\n",
              "    <tr>\n",
              "      <th>5</th>\n",
              "      <td>0.90</td>\n",
              "    </tr>\n",
              "    <tr>\n",
              "      <th>6</th>\n",
              "      <td>0.54</td>\n",
              "    </tr>\n",
              "    <tr>\n",
              "      <th>11</th>\n",
              "      <td>0.93</td>\n",
              "    </tr>\n",
              "    <tr>\n",
              "      <th>15</th>\n",
              "      <td>0.92</td>\n",
              "    </tr>\n",
              "    <tr>\n",
              "      <th>...</th>\n",
              "      <td>...</td>\n",
              "    </tr>\n",
              "    <tr>\n",
              "      <th>445</th>\n",
              "      <td>0.53</td>\n",
              "    </tr>\n",
              "    <tr>\n",
              "      <th>447</th>\n",
              "      <td>0.91</td>\n",
              "    </tr>\n",
              "    <tr>\n",
              "      <th>448</th>\n",
              "      <td>0.74</td>\n",
              "    </tr>\n",
              "    <tr>\n",
              "      <th>449</th>\n",
              "      <td>0.55</td>\n",
              "    </tr>\n",
              "    <tr>\n",
              "      <th>450</th>\n",
              "      <td>0.76</td>\n",
              "    </tr>\n",
              "  </tbody>\n",
              "</table>\n",
              "<p>211 rows × 1 columns</p>\n",
              "</div><br><label><b>dtype:</b> float64</label>"
            ]
          },
          "metadata": {},
          "execution_count": 54
        }
      ]
    },
    {
      "cell_type": "code",
      "source": [
        "#use a histogram to somewhat visualize normality\n",
        "\n",
        "plt.figure(figsize=(12, 6))\n",
        "\n",
        "before_mean = before_midnight.mean()\n",
        "plt.subplot(1, 2, 1)\n",
        "ax1 = sns.histplot(before_midnight, kde=True, color='green')\n",
        "plt.title('Before Midnight Sleep Efficiency', fontweight='bold')\n",
        "plt.xlabel('Sleep Efficiency', fontweight='bold')\n",
        "plt.vlines(before_mean, ymin=0, ymax=20, color='red', linewidth=3)\n",
        "for p in ax1.patches:\n",
        "    height = p.get_height()\n",
        "    x_position = p.get_x() + p.get_width() / 2\n",
        "    ax1.text(x_position, height, int(height), ha='center', va='bottom', color='black', fontweight='bold')\n",
        "\n",
        "\n",
        "after_mean = after_midnight.mean()\n",
        "plt.subplot(1, 2, 2)\n",
        "ax2 = sns.histplot(after_midnight, kde=True, color='red')\n",
        "plt.title('After Midnight Sleep Efficiency', fontweight='bold')\n",
        "plt.xlabel('Sleep Efficiency', fontweight='bold')\n",
        "plt.vlines(after_mean, ymin=0, ymax=20, color='green', linewidth=3)\n",
        "for p in ax2.patches:\n",
        "    height = p.get_height()\n",
        "    x_position = p.get_x() + p.get_width() / 2\n",
        "    ax2.text(x_position, height, int(height), ha='center', va='bottom', color='black', fontweight='bold')\n",
        "\n",
        "plt.tight_layout()\n",
        "plt.show()"
      ],
      "metadata": {
        "colab": {
          "base_uri": "https://localhost:8080/",
          "height": 536
        },
        "id": "8hfN3pSdW0Ax",
        "outputId": "7a82e9e9-e7b5-4c66-e406-bf3a7e709782"
      },
      "execution_count": 109,
      "outputs": [
        {
          "output_type": "display_data",
          "data": {
            "text/plain": [
              "<Figure size 1200x600 with 2 Axes>"
            ],
            "image/png": "[encoded data removed]"
          },
          "metadata": {}
        }
      ]
    },
    {
      "cell_type": "code",
      "source": [
        "#perform a shapiro-wilk test for normality\n",
        "\n",
        "from scipy.stats import shapiro\n",
        "\n",
        "before_midnight = df[df['Bedtime Category'] == 'Before Midnight']['Sleep efficiency']\n",
        "after_midnight = df[df['Bedtime Category'] == 'After Midnight']['Sleep efficiency']\n",
        "\n",
        "before_midnight_stat, before_midnight_p = shapiro(before_midnight)\n",
        "after_midnight_stat, after_midnight_p = shapiro(after_midnight)\n",
        "\n",
        "print('stat=%.3f, p=%.3f' % (before_midnight_stat, before_midnight_p))\n",
        "if before_midnight_p > 0.05:\n",
        "\tprint('Probably Gaussian')\n",
        "else:\n",
        "\tprint('Probably not Gaussian')"
      ],
      "metadata": {
        "colab": {
          "base_uri": "https://localhost:8080/"
        },
        "id": "gJcOQSJWge0u",
        "outputId": "8bbcc449-e0a0-436a-ba44-6271ea156e7e"
      },
      "execution_count": 37,
      "outputs": [
        {
          "output_type": "stream",
          "name": "stdout",
          "text": [
            "stat=0.886, p=0.000\n",
            "Probably not Gaussian\n"
          ]
        }
      ]
    },
    {
      "cell_type": "markdown",
      "source": [
        "Probably not Gaussian means it is most likely not normally distributed!"
      ],
      "metadata": {
        "id": "c0i9kngH0jIj"
      }
    },
    {
      "cell_type": "markdown",
      "source": [
        "###Step #0: Get a feel for the direction we're going in:"
      ],
      "metadata": {
        "id": "clcmCcF007dV"
      }
    },
    {
      "cell_type": "code",
      "source": [
        "plt.figure(figsize=(8,6))\n",
        "\n",
        "sns.barplot(data=df, y='Sleep efficiency', x='Bedtime Category', palette = 'GnBu',\n",
        "            order=['Before Midnight', 'After Midnight'])\n",
        "plt.title('Sleep Efficiency based on Bedtime', fontweight='bold')\n",
        "plt.ylabel('Sleep Efficiency')\n",
        "plt.show()"
      ],
      "metadata": {
        "colab": {
          "base_uri": "https://localhost:8080/",
          "height": 673
        },
        "id": "57SjKKYm07FA",
        "outputId": "8f523aae-a42a-42f8-8f93-4d858d6b6e2a"
      },
      "execution_count": 38,
      "outputs": [
        {
          "output_type": "stream",
          "name": "stderr",
          "text": [
            "<ipython-input-38-4f28763f7d78>:3: FutureWarning: \n",
            "\n",
            "Passing `palette` without assigning `hue` is deprecated and will be removed in v0.14.0. Assign the `x` variable to `hue` and set `legend=False` for the same effect.\n",
            "\n",
            "  sns.barplot(data=df, y='Sleep efficiency', x='Bedtime Category', palette = 'GnBu',\n"
          ]
        },
        {
          "output_type": "display_data",
          "data": {
            "text/plain": [
              "<Figure size 800x600 with 1 Axes>"
            ],
            "image/png": "[encoded data removed]"
          },
          "metadata": {}
        }
      ]
    },
    {
      "cell_type": "markdown",
      "source": [
        "###Step #1: State the Hypothesis."
      ],
      "metadata": {
        "id": "ZrHbr68yEM21"
      }
    },
    {
      "cell_type": "markdown",
      "source": [
        "Null hypothesis (H₀): There is no significant difference in the sleep efficiency between people who sleep before midnight and those who sleep after midnight.\n",
        "\n",
        "Alternative hypothesis (H₁): People who sleep before midnight have higher sleep efficiency than those who sleep after midnight."
      ],
      "metadata": {
        "id": "6dP2UIoIEUGg"
      }
    },
    {
      "cell_type": "markdown",
      "source": [
        "###Step #2: Identify the Test Statistic and its Probability Distribution."
      ],
      "metadata": {
        "id": "3HiDhN1_Fqtz"
      }
    },
    {
      "cell_type": "markdown",
      "source": [
        "A large enough sample size is present:\n",
        "\n",
        "N = 452\n",
        "\n",
        "The subsamples are both also large enough:\n",
        "\n",
        "Before midnight = 211\n",
        "\n",
        "After midnight = 241\n",
        "\n",
        "We do not know population paramters. Additionally, Shapiro-Wilk test revealed the distributions are most likely not normally distributed, ruling out parametric hypothesis tests.\n",
        "\n",
        "With all aspects considered, Mann-Whitney U Test is the most fitting hypothesis test."
      ],
      "metadata": {
        "id": "pg_-VwDoFtH8"
      }
    },
    {
      "cell_type": "markdown",
      "source": [
        "###Step #3: Specify the Significance Level.\n",
        "\n",
        "$\\alpha$ = 0.05"
      ],
      "metadata": {
        "id": "a5bHcobfJN9C"
      }
    },
    {
      "cell_type": "code",
      "source": [
        "alpha = 0.05"
      ],
      "metadata": {
        "id": "XfwsQxLgyf_q"
      },
      "execution_count": 39,
      "outputs": []
    },
    {
      "cell_type": "markdown",
      "source": [
        "###Step #4: State the Decision Rule."
      ],
      "metadata": {
        "id": "JM1MFCoxJ-XW"
      }
    },
    {
      "cell_type": "code",
      "source": [
        "def interpret_hypothesis_test(p_value, alpha):\n",
        "    if p_value < alpha:\n",
        "        print(\"Testing has concluded in a SUCCESSFUL REJECTION OF THE NULL HYPOTHESIS.\")\n",
        "        print(\"\\t –> `θ ≠ θ₀`\")\n",
        "        print(\"\\nEvidence has been found to suggest that there is a statistical difference in sleep efficiency between those who sleep before and after midnight.\")\n",
        "    else:\n",
        "        print(\"Testing has concluded in a FAILURE TO REJECT THE NULL HYPOTHESIS.\")\n",
        "        print(\"\\t –> `θ = θ₀`\")\n",
        "        print(\"\\nNo evidence has been found at this time to suggest that there is statistical difference in sleep efficiency between those who sleep before and after midnight.\")"
      ],
      "metadata": {
        "id": "tnc9ZZ_RGGLd"
      },
      "execution_count": 40,
      "outputs": []
    },
    {
      "cell_type": "markdown",
      "source": [
        "###Step #5: Collect Data and Calculate the Test Statistic."
      ],
      "metadata": {
        "id": "n0OFdAz3KkZG"
      }
    },
    {
      "cell_type": "code",
      "source": [
        "#prepare data\n",
        "\n",
        "before_midnight = df[df['Bedtime Category'] == 'Before Midnight']['Sleep efficiency']\n",
        "after_midnight = df[df['Bedtime Category'] == 'After Midnight']['Sleep efficiency']\n",
        "\n",
        "#import appropriate scipy.stats test suite\n",
        "\n",
        "import scipy.stats as stats\n",
        "stat, p_value = stats.mannwhitneyu(before_midnight, after_midnight)\n",
        "print('stat=%.3f, p=%.10f' % (stat, p_value))"
      ],
      "metadata": {
        "colab": {
          "base_uri": "https://localhost:8080/"
        },
        "id": "H9-E2M9eKi2x",
        "outputId": "3e9b8373-cb3e-486b-93c9-f2ab0c13465b"
      },
      "execution_count": 41,
      "outputs": [
        {
          "output_type": "stream",
          "name": "stdout",
          "text": [
            "stat=29633.000, p=0.0023813114\n"
          ]
        }
      ]
    },
    {
      "cell_type": "markdown",
      "source": [
        "###Step #6: Make the Statistical Decision."
      ],
      "metadata": {
        "id": "Zyeqpge5M2BI"
      }
    },
    {
      "cell_type": "code",
      "source": [
        "interpret_hypothesis_test(p_value=p_value, alpha=alpha)"
      ],
      "metadata": {
        "colab": {
          "base_uri": "https://localhost:8080/"
        },
        "id": "fh-y1DXxKqh5",
        "outputId": "e9776b8b-a0f9-4056-f780-56227932013d"
      },
      "execution_count": 42,
      "outputs": [
        {
          "output_type": "stream",
          "name": "stdout",
          "text": [
            "Testing has concluded in a SUCCESSFUL REJECTION OF THE NULL HYPOTHESIS.\n",
            "\t –> `θ ≠ θ₀`\n",
            "\n",
            "Evidence has been found to suggest that there is a statistical difference in sleep efficiency between those who sleep before and after midnight.\n"
          ]
        }
      ]
    },
    {
      "cell_type": "markdown",
      "source": [
        "##Does exercise frequency have an effect on sleep efficiency?"
      ],
      "metadata": {
        "id": "WFS0q5J1Pydz"
      }
    },
    {
      "cell_type": "markdown",
      "source": [
        "Before we can do any sort of parametric or non-parametric statistical hypothesis tests, it is important to identify if the distributions are normal."
      ],
      "metadata": {
        "id": "Ghk4UbzJclYy"
      }
    },
    {
      "cell_type": "code",
      "source": [
        "exercise_groups = [df[df['Exercise frequency'] == level]['Sleep efficiency'] for level in [0, 1, 2, 3, 4, 5]]"
      ],
      "metadata": {
        "id": "fkFQpyjKUi3y"
      },
      "execution_count": 43,
      "outputs": []
    },
    {
      "cell_type": "code",
      "source": [
        "for i, group in enumerate(exercise_groups, 0):\n",
        "    stat, p_value = shapiro(group)\n",
        "    if p_value > 0.05:\n",
        "\t    print(f\"Shapiro-Wilk Test for Exercise Frequency: {i} is Probably Gaussian\")\n",
        "    else:\n",
        "\t    print(f\"Shapiro-Wilk Test for Exercise Frequency: {i} is Probably not Gaussian\")\n"
      ],
      "metadata": {
        "colab": {
          "base_uri": "https://localhost:8080/"
        },
        "id": "K3obK_0BUl6k",
        "outputId": "626af170-2898-48b1-e0a8-0f42abfbe4c6"
      },
      "execution_count": 44,
      "outputs": [
        {
          "output_type": "stream",
          "name": "stdout",
          "text": [
            "Shapiro-Wilk Test for Exercise Frequency: 0 is Probably not Gaussian\n",
            "Shapiro-Wilk Test for Exercise Frequency: 1 is Probably not Gaussian\n",
            "Shapiro-Wilk Test for Exercise Frequency: 2 is Probably not Gaussian\n",
            "Shapiro-Wilk Test for Exercise Frequency: 3 is Probably not Gaussian\n",
            "Shapiro-Wilk Test for Exercise Frequency: 4 is Probably not Gaussian\n",
            "Shapiro-Wilk Test for Exercise Frequency: 5 is Probably not Gaussian\n"
          ]
        }
      ]
    },
    {
      "cell_type": "markdown",
      "source": [
        "Based on the Shapiro-Wilk test, it seems that none of the distributions are normal."
      ],
      "metadata": {
        "id": "6RyywGr1cms8"
      }
    },
    {
      "cell_type": "markdown",
      "source": [
        "###Step #0: Get a feel for the direction we're going in:"
      ],
      "metadata": {
        "id": "3r2uafEXcs8m"
      }
    },
    {
      "cell_type": "code",
      "source": [
        "plt.figure(figsize=(12,8))\n",
        "\n",
        "ax = sns.barplot(data=df, y='Sleep efficiency', x='Exercise frequency', palette = 'Purples')\n",
        "plt.title('Sleep Efficiency based on Exercise Frequency', fontweight = 'bold')\n",
        "plt.xlabel('Exercise Frequency', fontweight='bold')\n",
        "plt.ylabel('Sleep Efficiency', fontweight='bold')\n",
        "\n",
        "for p in ax.patches:\n",
        "    height = p.get_height()\n",
        "    x_position = p.get_x() + p.get_width() / 2\n",
        "    ax.text(x_position, height/2, f'{height:.2f}', ha='center', va='bottom', color='black', fontweight='bold')\n",
        "\n",
        "plt.show()"
      ],
      "metadata": {
        "colab": {
          "base_uri": "https://localhost:8080/",
          "height": 827
        },
        "id": "5p1lf-_RcxBz",
        "outputId": "0596d4b6-b485-43f3-902c-9c4f232f99dc"
      },
      "execution_count": 125,
      "outputs": [
        {
          "output_type": "stream",
          "name": "stderr",
          "text": [
            "<ipython-input-125-f08f1a3d4f19>:3: FutureWarning: \n",
            "\n",
            "Passing `palette` without assigning `hue` is deprecated and will be removed in v0.14.0. Assign the `x` variable to `hue` and set `legend=False` for the same effect.\n",
            "\n",
            "  ax = sns.barplot(data=df, y='Sleep efficiency', x='Exercise frequency', palette = 'Purples')\n"
          ]
        },
        {
          "output_type": "display_data",
          "data": {
            "text/plain": [
              "<Figure size 1200x800 with 1 Axes>"
            ],
            "image/png": "[encoded data removed]"
          },
          "metadata": {}
        }
      ]
    },
    {
      "cell_type": "markdown",
      "source": [
        "###Step #1: State the Hypothesis."
      ],
      "metadata": {
        "id": "rNzDlu2epcP5"
      }
    },
    {
      "cell_type": "markdown",
      "source": [
        "Null Hypothesis (H₀): The distribution of sleep efficiency is the same across all levels of exercise frequency (i.e., there is no difference in sleep efficiency between the groups).\n",
        "\n",
        "Alternative Hypothesis (H₁): At least one level of exercise frequency has a different distribution of sleep efficiency (i.e., at least one group differs from the others in terms of sleep efficiency).\n"
      ],
      "metadata": {
        "id": "-zyILcd9bwud"
      }
    },
    {
      "cell_type": "markdown",
      "source": [
        "###Step #2: Identify the Test Statistic and its Probability Distribution."
      ],
      "metadata": {
        "id": "irQVB7VrpeC7"
      }
    },
    {
      "cell_type": "markdown",
      "source": [
        "A large enough sample size is present as N≥30:\n",
        "\n",
        "N = 452\n",
        "\n",
        "The subsamples are both also large enough ≥ 5:\n",
        "\n",
        "Exercise frequency: 0 = 116\n",
        "\n",
        "Exercise frequency: 1 = 97\n",
        "\n",
        "Exercise frequency: 2 = 54\n",
        "\n",
        "Exercise frequency: 3 = 136\n",
        "\n",
        "Exercise frequency: 4 = 41\n",
        "\n",
        "Exercise frequency: 5 = 8\n",
        "\n",
        "We do not know population paramters. Additionally, Shapiro-Wilk test revealed the distributions are most likely not normally distributed, ruling out parametric hypothesis tests.\n",
        "\n",
        "With all aspects considered, Kruskal-Wallis Test is the most fitting hypothesis test."
      ],
      "metadata": {
        "id": "0mfoEuXRphBr"
      }
    },
    {
      "cell_type": "markdown",
      "source": [
        "###Step #3: Specify the Significance Level.\n",
        "\n",
        "$\\alpha$ = 0.05"
      ],
      "metadata": {
        "id": "KtnfjWaov10D"
      }
    },
    {
      "cell_type": "code",
      "source": [
        "alpha = 0.05"
      ],
      "metadata": {
        "id": "a6iN4NYgWTzB"
      },
      "execution_count": 46,
      "outputs": []
    },
    {
      "cell_type": "markdown",
      "source": [
        "###Step #4: State the Decision Rule."
      ],
      "metadata": {
        "id": "Eb0ICJvEv4ta"
      }
    },
    {
      "cell_type": "code",
      "source": [
        "def interpret_hypothesis_test(p_value, alpha):\n",
        "    if p_value < alpha:\n",
        "        print(\"Testing has concluded in a SUCCESSFUL REJECTION OF THE NULL HYPOTHESIS.\")\n",
        "        print(\"\\t –> `θ ≠ θ₀`\")\n",
        "        print(\"\\nEvidence has been found to suggest that there is at least one level of exercise frequency with a statistically different distribution of sleep efficiency.\")\n",
        "    else:\n",
        "        print(\"Testing has concluded in a FAILURE TO REJECT THE NULL HYPOTHESIS.\")\n",
        "        print(\"\\t –> `θ = θ₀`\")\n",
        "        print(\"\\nNo evidence has been found at this time to suggest that there is statistically different distribution of sleep efficiency among different exercise frequencies.\")"
      ],
      "metadata": {
        "id": "O-bXnOVyZv2k"
      },
      "execution_count": 47,
      "outputs": []
    },
    {
      "cell_type": "markdown",
      "source": [
        "###Step #5: Collect Data and Calculate the Test Statistic."
      ],
      "metadata": {
        "id": "Qq7EzOX7zktj"
      }
    },
    {
      "cell_type": "code",
      "source": [
        "#import necessary tool\n",
        "from scipy.stats import kruskal\n",
        "\n",
        "kruskal_stat, kruskal_p_value = kruskal(*exercise_groups)\n",
        "print('stat=%.3f, p=%.10f' % (kruskal_stat, kruskal_p_value))"
      ],
      "metadata": {
        "colab": {
          "base_uri": "https://localhost:8080/"
        },
        "id": "6-xe6o5NaT86",
        "outputId": "c83f8f28-5726-451b-bc33-3be4ba7ae47c"
      },
      "execution_count": 48,
      "outputs": [
        {
          "output_type": "stream",
          "name": "stdout",
          "text": [
            "stat=42.049, p=0.0000000576\n"
          ]
        }
      ]
    },
    {
      "cell_type": "markdown",
      "source": [
        "###Step #6: Make the Statistical Decision."
      ],
      "metadata": {
        "id": "SM-mzkv2z8OI"
      }
    },
    {
      "cell_type": "code",
      "source": [
        "interpret_hypothesis_test(p_value=kruskal_p_value, alpha=alpha)"
      ],
      "metadata": {
        "colab": {
          "base_uri": "https://localhost:8080/"
        },
        "id": "pvgc8Qsbzv45",
        "outputId": "abb10120-2752-460a-a672-d100fe5c0e33"
      },
      "execution_count": 49,
      "outputs": [
        {
          "output_type": "stream",
          "name": "stdout",
          "text": [
            "Testing has concluded in a SUCCESSFUL REJECTION OF THE NULL HYPOTHESIS.\n",
            "\t –> `θ ≠ θ₀`\n",
            "\n",
            "Evidence has been found to suggest that there is at least one level of exercise frequency with a statistically different distribution of sleep efficiency.\n"
          ]
        }
      ]
    },
    {
      "cell_type": "markdown",
      "source": [
        "###Step #7: Additional Statistical Tests."
      ],
      "metadata": {
        "id": "URgbM81_NDxL"
      }
    },
    {
      "cell_type": "code",
      "source": [
        "if kruskal_p_value < alpha:\n",
        "    print(\"You would need to perform pairwise tests using Mann-Whitney U test or other non-parametric methods.\")"
      ],
      "metadata": {
        "colab": {
          "base_uri": "https://localhost:8080/"
        },
        "id": "yxLyg_z0NM9O",
        "outputId": "08d63766-2de2-4c3c-bf8c-d61cb3f4739b"
      },
      "execution_count": 50,
      "outputs": [
        {
          "output_type": "stream",
          "name": "stdout",
          "text": [
            "You would need to perform pairwise tests using Mann-Whitney U test or other non-parametric methods.\n"
          ]
        }
      ]
    },
    {
      "cell_type": "code",
      "source": [
        "from scipy.stats import mannwhitneyu\n",
        "\n",
        "alpha = 0.05\n",
        "\n",
        "for i in range(len(exercise_groups)):\n",
        "    for j in range(i + 1, len(exercise_groups)):\n",
        "        stat, p_value = mannwhitneyu(exercise_groups[i], exercise_groups[j])\n",
        "        significance = \"Statistically significant\" if p_value < alpha else \"Not statistically significant\"\n",
        "\n",
        "        print(f\"Comparison between Exercise Frequency {i} and Exercise Frequency {j}: p-value = {p_value:.4f} - {significance}\")"
      ],
      "metadata": {
        "colab": {
          "base_uri": "https://localhost:8080/"
        },
        "id": "vsqerzBZNqTr",
        "outputId": "1339e249-11b2-4373-ba8c-e33541529daf"
      },
      "execution_count": 51,
      "outputs": [
        {
          "output_type": "stream",
          "name": "stdout",
          "text": [
            "Comparison between Exercise Frequency 0 and Exercise Frequency 1: p-value = 0.1002 - Not statistically significant\n",
            "Comparison between Exercise Frequency 0 and Exercise Frequency 2: p-value = 0.0026 - Statistically significant\n",
            "Comparison between Exercise Frequency 0 and Exercise Frequency 3: p-value = 0.0016 - Statistically significant\n",
            "Comparison between Exercise Frequency 0 and Exercise Frequency 4: p-value = 0.0000 - Statistically significant\n",
            "Comparison between Exercise Frequency 0 and Exercise Frequency 5: p-value = 0.0272 - Statistically significant\n",
            "Comparison between Exercise Frequency 1 and Exercise Frequency 2: p-value = 0.1019 - Not statistically significant\n",
            "Comparison between Exercise Frequency 1 and Exercise Frequency 3: p-value = 0.0888 - Not statistically significant\n",
            "Comparison between Exercise Frequency 1 and Exercise Frequency 4: p-value = 0.0000 - Statistically significant\n",
            "Comparison between Exercise Frequency 1 and Exercise Frequency 5: p-value = 0.0441 - Statistically significant\n",
            "Comparison between Exercise Frequency 2 and Exercise Frequency 3: p-value = 0.9277 - Not statistically significant\n",
            "Comparison between Exercise Frequency 2 and Exercise Frequency 4: p-value = 0.0003 - Statistically significant\n",
            "Comparison between Exercise Frequency 2 and Exercise Frequency 5: p-value = 0.1101 - Not statistically significant\n",
            "Comparison between Exercise Frequency 3 and Exercise Frequency 4: p-value = 0.0004 - Statistically significant\n",
            "Comparison between Exercise Frequency 3 and Exercise Frequency 5: p-value = 0.2791 - Not statistically significant\n",
            "Comparison between Exercise Frequency 4 and Exercise Frequency 5: p-value = 0.4717 - Not statistically significant\n"
          ]
        }
      ]
    },
    {
      "cell_type": "markdown",
      "source": [
        "Statistically significant pairs:\n",
        "\n",
        "Exercise frequency comparing:\n",
        "\n",
        "0 and 2\n",
        "\n",
        "0 and 3\n",
        "\n",
        "0 and 4\n",
        "\n",
        "0 and 5\n",
        "\n",
        "1 and 4\n",
        "\n",
        "1 and 5\n",
        "\n",
        "2 and 4\n",
        "\n",
        "3 and 4\n",
        "\n"
      ],
      "metadata": {
        "id": "GLnCQZ0SRpPR"
      }
    },
    {
      "cell_type": "markdown",
      "source": [
        "#Summary of Findings"
      ],
      "metadata": {
        "id": "r0b6D-C31euF"
      }
    },
    {
      "cell_type": "markdown",
      "source": [
        "After completing descriptive and inferential analyses accompanied with visuals, here are some of the important findings worth summarizing.\n",
        "\n",
        "There seems to be a left skew in distribution of sleep efficiency of the dataset, showing more individuals having a sleep efficiency level of around 0.9. According to the correlation matrix, there is a strong positive correlation between deep sleep percentage and sleep efficiency. This is likely due to deep sleep being considered \"efficient\", which will result in an increase of sleep efficiency if deep sleep percentage is increasing.\n",
        "\n",
        "Evidence also showed that those who sleep after midnight is more likely to have lower sleep efficiency than those who sleep before midnight. Inferential analysis was done on this where the null and alternative hypothesis were:\n",
        "\n",
        "Null hypothesis (H₀): There is no significant difference in the sleep efficiency between people who sleep before midnight and those who sleep after midnight.\n",
        "\n",
        "Alternative hypothesis (H₁): People who sleep before midnight have higher sleep efficiency than those who sleep after midnight.\n",
        "\n",
        "This was then statistically investigated using a Mann-Whitney U Test where sufficient evidence showed there is a statistically significant difference between those who sleep before and after midnight.\n",
        "\n",
        "Lastly, exercise frequency (ranging between 0-5) was suspected to have statistically different distributions of sleep efficiency. A hypothesis test was conducted using the following null and alternative hypothesis:\n",
        "\n",
        "Null Hypothesis (H₀): The distribution of sleep efficiency is the same across all levels of exercise frequency (i.e., there is no difference in sleep efficiency between the groups).\n",
        "\n",
        "Alternative Hypothesis (H₁): At least one level of exercise frequency has a different distribution of sleep efficiency (i.e., at least one group differs from the others in terms of sleep efficiency).\n",
        "\n",
        "The Kruskal-Wallis test revealed that at least one level of exercise frequency has a statistically different distribution in sleep efficiency.\n",
        "\n",
        "\n",
        "\n",
        "I would like to mention that these are recommendations based off of relatively general data, graphical trends, and hypothesis testing. There was sufficient analyses completed to make these recommendations, although there is always room for more detailed and concrete evidence driven analyses, whether that is through better understanding of the data or diving deeper into more advanced statistics and calculations. This is just the overview to a much more detailed and advanced set of recommendations that can be explored further in the future."
      ],
      "metadata": {
        "id": "zu5q9_n41kaF"
      }
    },
    {
      "cell_type": "markdown",
      "source": [
        "#Appendix\n",
        "\n",
        "Dataset:\n",
        "\n",
        "https://www.kaggle.com/datasets/equilibriumm/sleep-efficiency/data\n",
        "\n",
        "Hypothesis Testing Tool:\n",
        "\n",
        "https://machinelearningmastery.com/statistical-hypothesis-tests-in-python-cheat-sheet/"
      ],
      "metadata": {
        "id": "WCwAqbpj1P1I"
      }
    }
  ]
}